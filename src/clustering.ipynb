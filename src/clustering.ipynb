{
 "cells": [
  {
   "cell_type": "code",
   "execution_count": 1,
   "metadata": {},
   "outputs": [],
   "source": [
    "import requests\n",
    "import numpy as np\n",
    "import pandas as pd\n",
    "from openai import OpenAI\n",
    "import json"
   ]
  },
  {
   "cell_type": "code",
   "execution_count": 2,
   "metadata": {},
   "outputs": [],
   "source": [
    "DATA_PATH = r\"..\\data\\arxiv_metadata.parquet.gzip\"\n",
    "CATEGORIES_PATH = r\"..\\data\\categories.json\""
   ]
  },
  {
   "cell_type": "code",
   "execution_count": 3,
   "metadata": {},
   "outputs": [],
   "source": [
    "def load_data(p):\n",
    "    return pd.read_parquet(p)\n",
    "\n",
    "def load_categories(p):\n",
    "    with open(p, \"r\") as f:\n",
    "        return json.load(f)"
   ]
  },
  {
   "cell_type": "code",
   "execution_count": 4,
   "metadata": {},
   "outputs": [
    {
     "data": {
      "text/html": [
       "<div>\n",
       "<style scoped>\n",
       "    .dataframe tbody tr th:only-of-type {\n",
       "        vertical-align: middle;\n",
       "    }\n",
       "\n",
       "    .dataframe tbody tr th {\n",
       "        vertical-align: top;\n",
       "    }\n",
       "\n",
       "    .dataframe thead th {\n",
       "        text-align: right;\n",
       "    }\n",
       "</style>\n",
       "<table border=\"1\" class=\"dataframe\">\n",
       "  <thead>\n",
       "    <tr style=\"text-align: right;\">\n",
       "      <th></th>\n",
       "      <th>id</th>\n",
       "      <th>title</th>\n",
       "      <th>abstract</th>\n",
       "      <th>categories</th>\n",
       "      <th>update_date</th>\n",
       "    </tr>\n",
       "  </thead>\n",
       "  <tbody>\n",
       "    <tr>\n",
       "      <th>0</th>\n",
       "      <td>704.0001</td>\n",
       "      <td>Calculation of prompt diphoton production cros...</td>\n",
       "      <td>A fully differential calculation in perturba...</td>\n",
       "      <td>hep-ph</td>\n",
       "      <td>2008-11-26</td>\n",
       "    </tr>\n",
       "    <tr>\n",
       "      <th>1</th>\n",
       "      <td>704.0002</td>\n",
       "      <td>Sparsity-certifying Graph Decompositions</td>\n",
       "      <td>We describe a new algorithm, the $(k,\\ell)$-...</td>\n",
       "      <td>math.CO cs.CG</td>\n",
       "      <td>2008-12-13</td>\n",
       "    </tr>\n",
       "    <tr>\n",
       "      <th>2</th>\n",
       "      <td>704.0003</td>\n",
       "      <td>The evolution of the Earth-Moon system based o...</td>\n",
       "      <td>The evolution of Earth-Moon system is descri...</td>\n",
       "      <td>physics.gen-ph</td>\n",
       "      <td>2008-01-13</td>\n",
       "    </tr>\n",
       "    <tr>\n",
       "      <th>3</th>\n",
       "      <td>704.0004</td>\n",
       "      <td>A determinant of Stirling cycle numbers counts...</td>\n",
       "      <td>We show that a determinant of Stirling cycle...</td>\n",
       "      <td>math.CO</td>\n",
       "      <td>2007-05-23</td>\n",
       "    </tr>\n",
       "    <tr>\n",
       "      <th>4</th>\n",
       "      <td>704.0005</td>\n",
       "      <td>From dyadic $\\Lambda_{\\alpha}$ to $\\Lambda_{\\a...</td>\n",
       "      <td>In this paper we show how to compute the $\\L...</td>\n",
       "      <td>math.CA math.FA</td>\n",
       "      <td>2013-10-15</td>\n",
       "    </tr>\n",
       "  </tbody>\n",
       "</table>\n",
       "</div>"
      ],
      "text/plain": [
       "         id                                              title  \\\n",
       "0  704.0001  Calculation of prompt diphoton production cros...   \n",
       "1  704.0002           Sparsity-certifying Graph Decompositions   \n",
       "2  704.0003  The evolution of the Earth-Moon system based o...   \n",
       "3  704.0004  A determinant of Stirling cycle numbers counts...   \n",
       "4  704.0005  From dyadic $\\Lambda_{\\alpha}$ to $\\Lambda_{\\a...   \n",
       "\n",
       "                                            abstract       categories  \\\n",
       "0    A fully differential calculation in perturba...           hep-ph   \n",
       "1    We describe a new algorithm, the $(k,\\ell)$-...    math.CO cs.CG   \n",
       "2    The evolution of Earth-Moon system is descri...   physics.gen-ph   \n",
       "3    We show that a determinant of Stirling cycle...          math.CO   \n",
       "4    In this paper we show how to compute the $\\L...  math.CA math.FA   \n",
       "\n",
       "  update_date  \n",
       "0  2008-11-26  \n",
       "1  2008-12-13  \n",
       "2  2008-01-13  \n",
       "3  2007-05-23  \n",
       "4  2013-10-15  "
      ]
     },
     "metadata": {},
     "output_type": "display_data"
    },
    {
     "name": "stdout",
     "output_type": "stream",
     "text": [
      "(2468403, 5)\n"
     ]
    },
    {
     "data": {
      "text/plain": [
       "{'acc-phys': 'Accelerator Physics',\n",
       " 'adap-org': 'Not available',\n",
       " 'q-bio': 'Not available',\n",
       " 'cond-mat': 'Not available',\n",
       " 'chao-dyn': 'Not available',\n",
       " 'patt-sol': 'Not available',\n",
       " 'dg-ga': 'Not available',\n",
       " 'solv-int': 'Not available',\n",
       " 'bayes-an': 'Not available',\n",
       " 'comp-gas': 'Not available',\n",
       " 'alg-geom': 'Not available',\n",
       " 'funct-an': 'Not available',\n",
       " 'q-alg': 'Not available',\n",
       " 'ao-sci': 'Not available',\n",
       " 'atom-ph': 'Atomic Physics',\n",
       " 'chem-ph': 'Chemical Physics',\n",
       " 'plasm-ph': 'Plasma Physics',\n",
       " 'mtrl-th': 'Not available',\n",
       " 'cmp-lg': 'Not available',\n",
       " 'supr-con': 'Not available',\n",
       " 'econ.GN': 'General Economics',\n",
       " 'econ.TH': 'Theoretical Economics',\n",
       " 'eess.SY': 'Systems and Control',\n",
       " 'astro-ph': 'Astrophysics',\n",
       " 'astro-ph.CO': 'Cosmology and Nongalactic Astrophysics',\n",
       " 'astro-ph.EP': 'Earth and Planetary Astrophysics',\n",
       " 'astro-ph.GA': 'Astrophysics of Galaxies',\n",
       " 'astro-ph.HE': 'High Energy Astrophysical Phenomena',\n",
       " 'astro-ph.IM': 'Instrumentation and Methods for Astrophysics',\n",
       " 'astro-ph.SR': 'Solar and Stellar Astrophysics',\n",
       " 'cond-mat.dis-nn': 'Disordered Systems and Neural Networks',\n",
       " 'cond-mat.mes-hall': 'Mesoscale and Nanoscale Physics',\n",
       " 'cond-mat.mtrl-sci': 'Materials Science',\n",
       " 'cond-mat.other': 'Other Condensed Matter',\n",
       " 'cond-mat.quant-gas': 'Quantum Gases',\n",
       " 'cond-mat.soft': 'Soft Condensed Matter',\n",
       " 'cond-mat.stat-mech': 'Statistical Mechanics',\n",
       " 'cond-mat.str-el': 'Strongly Correlated Electrons',\n",
       " 'cond-mat.supr-con': 'Superconductivity',\n",
       " 'cs.AI': 'Artificial Intelligence',\n",
       " 'cs.AR': 'Hardware Architecture',\n",
       " 'cs.CC': 'Computational Complexity',\n",
       " 'cs.CE': 'Computational Engineering, Finance, and Science',\n",
       " 'cs.CG': 'Computational Geometry',\n",
       " 'cs.CL': 'Computation and Language',\n",
       " 'cs.CR': 'Cryptography and Security',\n",
       " 'cs.CV': 'Computer Vision and Pattern Recognition',\n",
       " 'cs.CY': 'Computers and Society',\n",
       " 'cs.DB': 'Databases',\n",
       " 'cs.DC': 'Distributed, Parallel, and Cluster Computing',\n",
       " 'cs.DL': 'Digital Libraries',\n",
       " 'cs.DM': 'Discrete Mathematics',\n",
       " 'cs.DS': 'Data Structures and Algorithms',\n",
       " 'cs.ET': 'Emerging Technologies',\n",
       " 'cs.FL': 'Formal Languages and Automata Theory',\n",
       " 'cs.GL': 'General Literature',\n",
       " 'cs.GR': 'Graphics',\n",
       " 'cs.GT': 'Computer Science and Game Theory',\n",
       " 'cs.HC': 'Human-Computer Interaction',\n",
       " 'cs.IR': 'Information Retrieval',\n",
       " 'cs.IT': 'Information Theory',\n",
       " 'cs.LG': 'Machine Learning',\n",
       " 'cs.LO': 'Logic in Computer Science',\n",
       " 'cs.MA': 'Multiagent Systems',\n",
       " 'cs.MM': 'Multimedia',\n",
       " 'cs.MS': 'Mathematical Software',\n",
       " 'cs.NA': 'Numerical Analysis',\n",
       " 'cs.NE': 'Neural and Evolutionary Computing',\n",
       " 'cs.NI': 'Networking and Internet Architecture',\n",
       " 'cs.OH': 'Other Computer Science',\n",
       " 'cs.OS': 'Operating Systems',\n",
       " 'cs.PF': 'Performance',\n",
       " 'cs.PL': 'Programming Languages',\n",
       " 'cs.RO': 'Robotics',\n",
       " 'cs.SC': 'Symbolic Computation',\n",
       " 'cs.SD': 'Sound',\n",
       " 'cs.SE': 'Software Engineering',\n",
       " 'cs.SI': 'Social and Information Networks',\n",
       " 'cs.SY': 'Systems and Control',\n",
       " 'econ.EM': 'Econometrics',\n",
       " 'eess.AS': 'Audio and Speech Processing',\n",
       " 'eess.IV': 'Image and Video Processing',\n",
       " 'eess.SP': 'Signal Processing',\n",
       " 'gr-qc': 'General Relativity and Quantum Cosmology',\n",
       " 'hep-ex': 'High Energy Physics - Experiment',\n",
       " 'hep-lat': 'High Energy Physics - Lattice',\n",
       " 'hep-ph': 'High Energy Physics - Phenomenology',\n",
       " 'hep-th': 'High Energy Physics - Theory',\n",
       " 'math.AC': 'Commutative Algebra',\n",
       " 'math.AG': 'Algebraic Geometry',\n",
       " 'math.AP': 'Analysis of PDEs',\n",
       " 'math.AT': 'Algebraic Topology',\n",
       " 'math.CA': 'Classical Analysis and ODEs',\n",
       " 'math.CO': 'Combinatorics',\n",
       " 'math.CT': 'Category Theory',\n",
       " 'math.CV': 'Complex Variables',\n",
       " 'math.DG': 'Differential Geometry',\n",
       " 'math.DS': 'Dynamical Systems',\n",
       " 'math.FA': 'Functional Analysis',\n",
       " 'math.GM': 'General Mathematics',\n",
       " 'math.GN': 'General Topology',\n",
       " 'math.GR': 'Group Theory',\n",
       " 'math.GT': 'Geometric Topology',\n",
       " 'math.HO': 'History and Overview',\n",
       " 'math.IT': 'Information Theory',\n",
       " 'math.KT': 'K-Theory and Homology',\n",
       " 'math.LO': 'Logic',\n",
       " 'math.MG': 'Metric Geometry',\n",
       " 'math.MP': 'Mathematical Physics',\n",
       " 'math.NA': 'Numerical Analysis',\n",
       " 'math.NT': 'Number Theory',\n",
       " 'math.OA': 'Operator Algebras',\n",
       " 'math.OC': 'Optimization and Control',\n",
       " 'math.PR': 'Probability',\n",
       " 'math.QA': 'Quantum Algebra',\n",
       " 'math.RA': 'Rings and Algebras',\n",
       " 'math.RT': 'Representation Theory',\n",
       " 'math.SG': 'Symplectic Geometry',\n",
       " 'math.SP': 'Spectral Theory',\n",
       " 'math.ST': 'Statistics Theory',\n",
       " 'math-ph': 'Mathematical Physics',\n",
       " 'nlin.AO': 'Adaptation and Self-Organizing Systems',\n",
       " 'nlin.CD': 'Chaotic Dynamics',\n",
       " 'nlin.CG': 'Cellular Automata and Lattice Gases',\n",
       " 'nlin.PS': 'Pattern Formation and Solitons',\n",
       " 'nlin.SI': 'Exactly Solvable and Integrable Systems',\n",
       " 'nucl-ex': 'Nuclear Experiment',\n",
       " 'nucl-th': 'Nuclear Theory',\n",
       " 'physics.acc-ph': 'Accelerator Physics',\n",
       " 'physics.ao-ph': 'Atmospheric and Oceanic Physics',\n",
       " 'physics.app-ph': 'Applied Physics',\n",
       " 'physics.atm-clus': 'Atomic and Molecular Clusters',\n",
       " 'physics.atom-ph': 'Atomic Physics',\n",
       " 'physics.bio-ph': 'Biological Physics',\n",
       " 'physics.chem-ph': 'Chemical Physics',\n",
       " 'physics.class-ph': 'Classical Physics',\n",
       " 'physics.comp-ph': 'Computational Physics',\n",
       " 'physics.data-an': 'Data Analysis, Statistics and Probability',\n",
       " 'physics.ed-ph': 'Physics Education',\n",
       " 'physics.flu-dyn': 'Fluid Dynamics',\n",
       " 'physics.gen-ph': 'General Physics',\n",
       " 'physics.geo-ph': 'Geophysics',\n",
       " 'physics.hist-ph': 'History and Philosophy of Physics',\n",
       " 'physics.ins-det': 'Instrumentation and Detectors',\n",
       " 'physics.med-ph': 'Medical Physics',\n",
       " 'physics.optics': 'Optics',\n",
       " 'physics.plasm-ph': 'Plasma Physics',\n",
       " 'physics.pop-ph': 'Popular Physics',\n",
       " 'physics.soc-ph': 'Physics and Society',\n",
       " 'physics.space-ph': 'Space Physics',\n",
       " 'q-bio.BM': 'Biomolecules',\n",
       " 'q-bio.CB': 'Cell Behavior',\n",
       " 'q-bio.GN': 'Genomics',\n",
       " 'q-bio.MN': 'Molecular Networks',\n",
       " 'q-bio.NC': 'Neurons and Cognition',\n",
       " 'q-bio.OT': 'Other Quantitative Biology',\n",
       " 'q-bio.PE': 'Populations and Evolution',\n",
       " 'q-bio.QM': 'Quantitative Methods',\n",
       " 'q-bio.SC': 'Subcellular Processes',\n",
       " 'q-bio.TO': 'Tissues and Organs',\n",
       " 'q-fin.CP': 'Computational Finance',\n",
       " 'q-fin.EC': 'Economics',\n",
       " 'q-fin.GN': 'General Finance',\n",
       " 'q-fin.MF': 'Mathematical Finance',\n",
       " 'q-fin.PM': 'Portfolio Management',\n",
       " 'q-fin.PR': 'Pricing of Securities',\n",
       " 'q-fin.RM': 'Risk Management',\n",
       " 'q-fin.ST': 'Statistical Finance',\n",
       " 'q-fin.TR': 'Trading and Market Microstructure',\n",
       " 'quant-ph': 'Quantum Physics',\n",
       " 'stat.AP': 'Applications',\n",
       " 'stat.CO': 'Computation',\n",
       " 'stat.ME': 'Methodology',\n",
       " 'stat.ML': 'Machine Learning',\n",
       " 'stat.OT': 'Other Statistics',\n",
       " 'stat.TH': 'Statistics Theory'}"
      ]
     },
     "metadata": {},
     "output_type": "display_data"
    },
    {
     "name": "stdout",
     "output_type": "stream",
     "text": [
      "176\n"
     ]
    }
   ],
   "source": [
    "df = load_data(DATA_PATH)\n",
    "display(df.head())\n",
    "print(df.shape)\n",
    "\n",
    "categories = load_categories(CATEGORIES_PATH)\n",
    "display(categories)\n",
    "print(len(categories))"
   ]
  },
  {
   "cell_type": "code",
   "execution_count": 11,
   "metadata": {},
   "outputs": [
    {
     "name": "stdout",
     "output_type": "stream",
     "text": [
      "(503248, 5)\n",
      "62\n"
     ]
    }
   ],
   "source": [
    "df_cs = df[df[\"categories\"].apply(lambda x: x.startswith(\"cs.\"))]\n",
    "print(df_cs.shape)\n",
    "\n",
    "categories_cs = {k: v for k, v in categories.items() if \"cs\" in k}\n",
    "print(len(categories_cs))"
   ]
  },
  {
   "cell_type": "code",
   "execution_count": 18,
   "metadata": {},
   "outputs": [
    {
     "name": "stdout",
     "output_type": "stream",
     "text": [
      "(29000, 5)\n"
     ]
    }
   ],
   "source": [
    "# Sort categories by number of papers\n",
    "top_categories = df_cs[\"categories\"].value_counts().sort_values(ascending=False)\n",
    "top_categories = top_categories[top_categories > 1000]\n",
    "\n",
    "len(top_categories)\n",
    "\n",
    "# Get N papers for each category\n",
    "N = 1000\n",
    "\n",
    "def get_papers(df, N):\n",
    "    return pd.concat([df[df[\"categories\"] == c].sample(N) for c in df[\"categories\"].unique()])\n",
    "\n",
    "df_cs_top = df_cs[df_cs[\"categories\"].isin(top_categories.index)]\n",
    "\n",
    "df_cs_top_sample = get_papers(df_cs_top, N)\n",
    "\n",
    "print(df_cs_top_sample.shape)"
   ]
  },
  {
   "cell_type": "code",
   "execution_count": 19,
   "metadata": {},
   "outputs": [],
   "source": [
    "# Make sure to `pip install openai` first\n",
    "\n",
    "client = OpenAI(base_url=\"http://localhost:5000/v1\", api_key=\"lm-studio\")\n",
    "\n",
    "\n",
    "def get_embeddings(texts, model=\"second-state/All-MiniLM-L6-v2-Embedding-GGUF\"):\n",
    "   \"\"\"\n",
    "   texts: list of strings\n",
    "   \"\"\"\n",
    "\n",
    "   return client.embeddings.create(input = texts, model=model)"
   ]
  },
  {
   "cell_type": "code",
   "execution_count": 20,
   "metadata": {},
   "outputs": [
    {
     "data": {
      "text/plain": [
       "['Online Matching with Stochastic Rewards: Optimal Competitive Ratio via\\n  Path Based Formulation',\n",
       " 'On the Configuration-LP of the Restricted Assignment Problem',\n",
       " 'A Polynomial Kernel for Diamond-Free Editing',\n",
       " 'Asymptotically exact streaming algorithms',\n",
       " 'Fast Prefix Search in Little Space, with Applications']"
      ]
     },
     "metadata": {},
     "output_type": "display_data"
    }
   ],
   "source": [
    "texts = df_cs_top_sample[\"title\"].tolist()\n",
    "display(texts[:5])\n",
    "embeddings = get_embeddings(texts)\n",
    "#"
   ]
  },
  {
   "cell_type": "code",
   "execution_count": 32,
   "metadata": {},
   "outputs": [],
   "source": [
    "# Save embeddings\n",
    "# embeddings = np.array([embeddings.data[i].embedding for i in range(len(embeddings.data))])\n",
    "# np.save(r\"embeddings.npy\", embeddings)\n",
    "\n",
    "# Save texts\n",
    "# with open(r\"texts.txt\", \"w\") as f:\n",
    "#     f.write(\"\\n\".join([t.replace(\"\\n\", \" \") for t in texts]))"
   ]
  },
  {
   "cell_type": "code",
   "execution_count": 44,
   "metadata": {},
   "outputs": [],
   "source": [
    "embeddings = np.load(r\"embeddings.npy\")\n",
    "labels = df_cs_top_sample[\"categories\"].tolist()\n",
    "\n",
    "label2id = {label: i for i, label in enumerate(np.unique(labels))}\n",
    "\n",
    "labels = np.array([label2id[label] for label in labels])\n"
   ]
  },
  {
   "cell_type": "code",
   "execution_count": 45,
   "metadata": {},
   "outputs": [
    {
     "data": {
      "text/html": [
       "<style>#sk-container-id-1 {color: black;}#sk-container-id-1 pre{padding: 0;}#sk-container-id-1 div.sk-toggleable {background-color: white;}#sk-container-id-1 label.sk-toggleable__label {cursor: pointer;display: block;width: 100%;margin-bottom: 0;padding: 0.3em;box-sizing: border-box;text-align: center;}#sk-container-id-1 label.sk-toggleable__label-arrow:before {content: \"▸\";float: left;margin-right: 0.25em;color: #696969;}#sk-container-id-1 label.sk-toggleable__label-arrow:hover:before {color: black;}#sk-container-id-1 div.sk-estimator:hover label.sk-toggleable__label-arrow:before {color: black;}#sk-container-id-1 div.sk-toggleable__content {max-height: 0;max-width: 0;overflow: hidden;text-align: left;background-color: #f0f8ff;}#sk-container-id-1 div.sk-toggleable__content pre {margin: 0.2em;color: black;border-radius: 0.25em;background-color: #f0f8ff;}#sk-container-id-1 input.sk-toggleable__control:checked~div.sk-toggleable__content {max-height: 200px;max-width: 100%;overflow: auto;}#sk-container-id-1 input.sk-toggleable__control:checked~label.sk-toggleable__label-arrow:before {content: \"▾\";}#sk-container-id-1 div.sk-estimator input.sk-toggleable__control:checked~label.sk-toggleable__label {background-color: #d4ebff;}#sk-container-id-1 div.sk-label input.sk-toggleable__control:checked~label.sk-toggleable__label {background-color: #d4ebff;}#sk-container-id-1 input.sk-hidden--visually {border: 0;clip: rect(1px 1px 1px 1px);clip: rect(1px, 1px, 1px, 1px);height: 1px;margin: -1px;overflow: hidden;padding: 0;position: absolute;width: 1px;}#sk-container-id-1 div.sk-estimator {font-family: monospace;background-color: #f0f8ff;border: 1px dotted black;border-radius: 0.25em;box-sizing: border-box;margin-bottom: 0.5em;}#sk-container-id-1 div.sk-estimator:hover {background-color: #d4ebff;}#sk-container-id-1 div.sk-parallel-item::after {content: \"\";width: 100%;border-bottom: 1px solid gray;flex-grow: 1;}#sk-container-id-1 div.sk-label:hover label.sk-toggleable__label {background-color: #d4ebff;}#sk-container-id-1 div.sk-serial::before {content: \"\";position: absolute;border-left: 1px solid gray;box-sizing: border-box;top: 0;bottom: 0;left: 50%;z-index: 0;}#sk-container-id-1 div.sk-serial {display: flex;flex-direction: column;align-items: center;background-color: white;padding-right: 0.2em;padding-left: 0.2em;position: relative;}#sk-container-id-1 div.sk-item {position: relative;z-index: 1;}#sk-container-id-1 div.sk-parallel {display: flex;align-items: stretch;justify-content: center;background-color: white;position: relative;}#sk-container-id-1 div.sk-item::before, #sk-container-id-1 div.sk-parallel-item::before {content: \"\";position: absolute;border-left: 1px solid gray;box-sizing: border-box;top: 0;bottom: 0;left: 50%;z-index: -1;}#sk-container-id-1 div.sk-parallel-item {display: flex;flex-direction: column;z-index: 1;position: relative;background-color: white;}#sk-container-id-1 div.sk-parallel-item:first-child::after {align-self: flex-end;width: 50%;}#sk-container-id-1 div.sk-parallel-item:last-child::after {align-self: flex-start;width: 50%;}#sk-container-id-1 div.sk-parallel-item:only-child::after {width: 0;}#sk-container-id-1 div.sk-dashed-wrapped {border: 1px dashed gray;margin: 0 0.4em 0.5em 0.4em;box-sizing: border-box;padding-bottom: 0.4em;background-color: white;}#sk-container-id-1 div.sk-label label {font-family: monospace;font-weight: bold;display: inline-block;line-height: 1.2em;}#sk-container-id-1 div.sk-label-container {text-align: center;}#sk-container-id-1 div.sk-container {/* jupyter's `normalize.less` sets `[hidden] { display: none; }` but bootstrap.min.css set `[hidden] { display: none !important; }` so we also need the `!important` here to be able to override the default hidden behavior on the sphinx rendered scikit-learn.org. See: https://github.com/scikit-learn/scikit-learn/issues/21755 */display: inline-block !important;position: relative;}#sk-container-id-1 div.sk-text-repr-fallback {display: none;}</style><div id=\"sk-container-id-1\" class=\"sk-top-container\"><div class=\"sk-text-repr-fallback\"><pre>Pipeline(steps=[(&#x27;standardscaler&#x27;, StandardScaler()),\n",
       "                (&#x27;logisticregression&#x27;, LogisticRegression(max_iter=1000))])</pre><b>In a Jupyter environment, please rerun this cell to show the HTML representation or trust the notebook. <br />On GitHub, the HTML representation is unable to render, please try loading this page with nbviewer.org.</b></div><div class=\"sk-container\" hidden><div class=\"sk-item sk-dashed-wrapped\"><div class=\"sk-label-container\"><div class=\"sk-label sk-toggleable\"><input class=\"sk-toggleable__control sk-hidden--visually\" id=\"sk-estimator-id-1\" type=\"checkbox\" ><label for=\"sk-estimator-id-1\" class=\"sk-toggleable__label sk-toggleable__label-arrow\">Pipeline</label><div class=\"sk-toggleable__content\"><pre>Pipeline(steps=[(&#x27;standardscaler&#x27;, StandardScaler()),\n",
       "                (&#x27;logisticregression&#x27;, LogisticRegression(max_iter=1000))])</pre></div></div></div><div class=\"sk-serial\"><div class=\"sk-item\"><div class=\"sk-estimator sk-toggleable\"><input class=\"sk-toggleable__control sk-hidden--visually\" id=\"sk-estimator-id-2\" type=\"checkbox\" ><label for=\"sk-estimator-id-2\" class=\"sk-toggleable__label sk-toggleable__label-arrow\">StandardScaler</label><div class=\"sk-toggleable__content\"><pre>StandardScaler()</pre></div></div></div><div class=\"sk-item\"><div class=\"sk-estimator sk-toggleable\"><input class=\"sk-toggleable__control sk-hidden--visually\" id=\"sk-estimator-id-3\" type=\"checkbox\" ><label for=\"sk-estimator-id-3\" class=\"sk-toggleable__label sk-toggleable__label-arrow\">LogisticRegression</label><div class=\"sk-toggleable__content\"><pre>LogisticRegression(max_iter=1000)</pre></div></div></div></div></div></div></div>"
      ],
      "text/plain": [
       "Pipeline(steps=[('standardscaler', StandardScaler()),\n",
       "                ('logisticregression', LogisticRegression(max_iter=1000))])"
      ]
     },
     "execution_count": 45,
     "metadata": {},
     "output_type": "execute_result"
    }
   ],
   "source": [
    "from sklearn.model_selection import train_test_split\n",
    "from sklearn.linear_model import LogisticRegression\n",
    "from sklearn.preprocessing import StandardScaler\n",
    "from sklearn.pipeline import make_pipeline\n",
    "\n",
    "# Split the data into training and testing sets\n",
    "X_train, X_test, y_train, y_test = train_test_split(embeddings, labels, test_size=0.2, random_state=42)\n",
    "\n",
    "# Create a pipeline with a standard scaler and logistic regression classifier\n",
    "pipeline = make_pipeline(StandardScaler(), LogisticRegression(max_iter=1000))\n",
    "\n",
    "# Train the classifier\n",
    "pipeline.fit(X_train, y_train)\n"
   ]
  },
  {
   "cell_type": "code",
   "execution_count": 46,
   "metadata": {},
   "outputs": [
    {
     "name": "stdout",
     "output_type": "stream",
     "text": [
      "Accuracy: 0.5684\n",
      "Classification Report:\n",
      "              precision    recall  f1-score   support\n",
      "\n",
      "           0       0.41      0.36      0.38       198\n",
      "           1       0.63      0.68      0.65       205\n",
      "           2       0.55      0.56      0.55       189\n",
      "           3       0.55      0.57      0.56       194\n",
      "           4       0.59      0.60      0.60       199\n",
      "           5       0.66      0.72      0.69       192\n",
      "           6       0.65      0.65      0.65       205\n",
      "           7       0.57      0.61      0.59       191\n",
      "           8       0.41      0.40      0.41       191\n",
      "           9       0.59      0.59      0.59       213\n",
      "          10       0.54      0.50      0.52       212\n",
      "          11       0.72      0.74      0.73       192\n",
      "          12       0.48      0.41      0.44       212\n",
      "          13       0.45      0.49      0.47       180\n",
      "          14       0.60      0.60      0.60       184\n",
      "          15       0.58      0.61      0.60       208\n",
      "          16       0.65      0.73      0.69       196\n",
      "          17       0.61      0.57      0.59       201\n",
      "          18       0.64      0.65      0.65       197\n",
      "          19       0.38      0.41      0.40       198\n",
      "          20       0.45      0.44      0.45       207\n",
      "          21       0.70      0.63      0.66       223\n",
      "          22       0.65      0.69      0.67       199\n",
      "          23       0.33      0.25      0.28       214\n",
      "          24       0.54      0.53      0.53       201\n",
      "          25       0.72      0.69      0.70       211\n",
      "          26       0.61      0.60      0.61       198\n",
      "          27       0.60      0.56      0.58       197\n",
      "          28       0.55      0.65      0.59       193\n",
      "\n",
      "    accuracy                           0.57      5800\n",
      "   macro avg       0.57      0.57      0.57      5800\n",
      "weighted avg       0.57      0.57      0.57      5800\n",
      "\n"
     ]
    }
   ],
   "source": [
    "from sklearn.metrics import accuracy_score, classification_report\n",
    "\n",
    "# Predict on the test set\n",
    "y_pred = pipeline.predict(X_test)\n",
    "\n",
    "# Calculate accuracy\n",
    "accuracy = accuracy_score(y_test, y_pred)\n",
    "print(f\"Accuracy: {accuracy:.4f}\")\n",
    "\n",
    "# Print classification report for detailed metrics\n",
    "print(\"Classification Report:\")\n",
    "print(classification_report(y_test, y_pred))\n"
   ]
  },
  {
   "cell_type": "code",
   "execution_count": 48,
   "metadata": {},
   "outputs": [
    {
     "name": "stderr",
     "output_type": "stream",
     "text": [
      "o:\\Programs\\Python\\3_11_6\\Lib\\site-packages\\sklearn\\cluster\\_kmeans.py:1416: FutureWarning: The default value of `n_init` will change from 10 to 'auto' in 1.4. Set the value of `n_init` explicitly to suppress the warning\n",
      "  super()._check_params_vs_input(X, default_n_init=10)\n"
     ]
    },
    {
     "name": "stdout",
     "output_type": "stream",
     "text": [
      "Adjusted Rand Index (ARI): 0.2519\n",
      "Normalized Mutual Information (NMI): 0.4182\n",
      "Silhouette Score: 0.0052\n"
     ]
    }
   ],
   "source": [
    "from sklearn.cluster import KMeans\n",
    "\n",
    "# Number of clusters is set to the number of unique labels\n",
    "num_clusters = len(np.unique(labels))\n",
    "\n",
    "# Perform KMeans clustering\n",
    "kmeans = KMeans(n_clusters=num_clusters, random_state=42)\n",
    "cluster_labels = kmeans.fit_predict(embeddings)\n",
    "\n",
    "from sklearn.metrics import adjusted_rand_score, normalized_mutual_info_score, silhouette_score\n",
    "\n",
    "# Adjusted Rand Index (ARI)\n",
    "ari = adjusted_rand_score(labels, cluster_labels)\n",
    "print(f\"Adjusted Rand Index (ARI): {ari:.4f}\")\n",
    "\n",
    "# Normalized Mutual Information (NMI)\n",
    "nmi = normalized_mutual_info_score(labels, cluster_labels)\n",
    "print(f\"Normalized Mutual Information (NMI): {nmi:.4f}\")\n",
    "\n",
    "# Silhouette Score\n",
    "silhouette_avg = silhouette_score(embeddings, labels)\n",
    "print(f\"Silhouette Score: {silhouette_avg:.4f}\")\n"
   ]
  }
 ],
 "metadata": {
  "kernelspec": {
   "display_name": "Python 3",
   "language": "python",
   "name": "python3"
  },
  "language_info": {
   "codemirror_mode": {
    "name": "ipython",
    "version": 3
   },
   "file_extension": ".py",
   "mimetype": "text/x-python",
   "name": "python",
   "nbconvert_exporter": "python",
   "pygments_lexer": "ipython3",
   "version": "3.11.6"
  }
 },
 "nbformat": 4,
 "nbformat_minor": 2
}
