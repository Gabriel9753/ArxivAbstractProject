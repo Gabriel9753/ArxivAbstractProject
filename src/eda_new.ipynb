{
 "cells": [
  {
   "cell_type": "code",
   "execution_count": 1,
   "metadata": {},
   "outputs": [],
   "source": [
    "import json\n",
    "import os\n",
    "\n",
    "import pandas as pd\n",
    "import seaborn as sns\n",
    "import torch\n",
    "import torch.nn.functional as F\n",
    "from tqdm.notebook import tqdm\n",
    "from transformers import AutoModel, AutoTokenizer"
   ]
  },
  {
   "cell_type": "code",
   "execution_count": 2,
   "metadata": {},
   "outputs": [],
   "source": [
    "cache_dir = 'cache'\n",
    "if not os.path.exists(cache_dir):\n",
    "    os.makedirs(cache_dir)\n",
    "\n",
    "json_path = '../data/arxiv-metadata-oai-snapshot.json'\n",
    "if not os.path.exists(json_path):\n",
    "    raise FileNotFoundError(f\"Please download the arXiv metadata from {json_path}\")\n",
    "\n",
    "load_existing = True\n",
    "parquet_path = '../data/arxiv_metadata.parquet.gzip'\n",
    "\n",
    "\n",
    "category_map_path = '../data/category_map.json'\n",
    "\n",
    "with open(category_map_path, 'r') as f:\n",
    "    category_map = json.load(f)"
   ]
  },
  {
   "cell_type": "code",
   "execution_count": 3,
   "metadata": {},
   "outputs": [
    {
     "name": "stdout",
     "output_type": "stream",
     "text": [
      "Loading existing parquet file from ../data/arxiv_metadata.parquet.gzip\n"
     ]
    },
    {
     "data": {
      "text/html": [
       "<div>\n",
       "<style scoped>\n",
       "    .dataframe tbody tr th:only-of-type {\n",
       "        vertical-align: middle;\n",
       "    }\n",
       "\n",
       "    .dataframe tbody tr th {\n",
       "        vertical-align: top;\n",
       "    }\n",
       "\n",
       "    .dataframe thead th {\n",
       "        text-align: right;\n",
       "    }\n",
       "</style>\n",
       "<table border=\"1\" class=\"dataframe\">\n",
       "  <thead>\n",
       "    <tr style=\"text-align: right;\">\n",
       "      <th></th>\n",
       "      <th>id</th>\n",
       "      <th>title</th>\n",
       "      <th>abstract</th>\n",
       "      <th>categories</th>\n",
       "      <th>update_date</th>\n",
       "    </tr>\n",
       "  </thead>\n",
       "  <tbody>\n",
       "    <tr>\n",
       "      <th>0</th>\n",
       "      <td>704.0001</td>\n",
       "      <td>Calculation of prompt diphoton production cros...</td>\n",
       "      <td>A fully differential calculation in perturba...</td>\n",
       "      <td>hep-ph</td>\n",
       "      <td>2008-11-26</td>\n",
       "    </tr>\n",
       "    <tr>\n",
       "      <th>1</th>\n",
       "      <td>704.0002</td>\n",
       "      <td>Sparsity-certifying Graph Decompositions</td>\n",
       "      <td>We describe a new algorithm, the $(k,\\ell)$-...</td>\n",
       "      <td>math.CO cs.CG</td>\n",
       "      <td>2008-12-13</td>\n",
       "    </tr>\n",
       "  </tbody>\n",
       "</table>\n",
       "</div>"
      ],
      "text/plain": [
       "         id                                              title  \\\n",
       "0  704.0001  Calculation of prompt diphoton production cros...   \n",
       "1  704.0002           Sparsity-certifying Graph Decompositions   \n",
       "\n",
       "                                            abstract     categories  \\\n",
       "0    A fully differential calculation in perturba...         hep-ph   \n",
       "1    We describe a new algorithm, the $(k,\\ell)$-...  math.CO cs.CG   \n",
       "\n",
       "  update_date  \n",
       "0  2008-11-26  \n",
       "1  2008-12-13  "
      ]
     },
     "metadata": {},
     "output_type": "display_data"
    },
    {
     "data": {
      "text/html": [
       "<div>\n",
       "<style scoped>\n",
       "    .dataframe tbody tr th:only-of-type {\n",
       "        vertical-align: middle;\n",
       "    }\n",
       "\n",
       "    .dataframe tbody tr th {\n",
       "        vertical-align: top;\n",
       "    }\n",
       "\n",
       "    .dataframe thead th {\n",
       "        text-align: right;\n",
       "    }\n",
       "</style>\n",
       "<table border=\"1\" class=\"dataframe\">\n",
       "  <thead>\n",
       "    <tr style=\"text-align: right;\">\n",
       "      <th></th>\n",
       "      <th>id</th>\n",
       "      <th>title</th>\n",
       "      <th>abstract</th>\n",
       "      <th>categories</th>\n",
       "      <th>update_date</th>\n",
       "    </tr>\n",
       "  </thead>\n",
       "  <tbody>\n",
       "    <tr>\n",
       "      <th>2477301</th>\n",
       "      <td>supr-con/9609003</td>\n",
       "      <td>Density of States and NMR Relaxation Rate in A...</td>\n",
       "      <td>We show that the density of states in an ani...</td>\n",
       "      <td>supr-con cond-mat.supr-con</td>\n",
       "      <td>2009-10-30</td>\n",
       "    </tr>\n",
       "    <tr>\n",
       "      <th>2477302</th>\n",
       "      <td>supr-con/9609004</td>\n",
       "      <td>Ginzburg Landau theory for d-wave pairing and ...</td>\n",
       "      <td>The Ginzburg Landau theory for d_{x^2-y^2}-w...</td>\n",
       "      <td>supr-con cond-mat.supr-con</td>\n",
       "      <td>2009-10-30</td>\n",
       "    </tr>\n",
       "  </tbody>\n",
       "</table>\n",
       "</div>"
      ],
      "text/plain": [
       "                       id                                              title  \\\n",
       "2477301  supr-con/9609003  Density of States and NMR Relaxation Rate in A...   \n",
       "2477302  supr-con/9609004  Ginzburg Landau theory for d-wave pairing and ...   \n",
       "\n",
       "                                                  abstract  \\\n",
       "2477301    We show that the density of states in an ani...   \n",
       "2477302    The Ginzburg Landau theory for d_{x^2-y^2}-w...   \n",
       "\n",
       "                         categories update_date  \n",
       "2477301  supr-con cond-mat.supr-con  2009-10-30  \n",
       "2477302  supr-con cond-mat.supr-con  2009-10-30  "
      ]
     },
     "metadata": {},
     "output_type": "display_data"
    },
    {
     "name": "stdout",
     "output_type": "stream",
     "text": [
      "Loaded 2477303 rows\n"
     ]
    }
   ],
   "source": [
    "# load json into pandas dataframe in chunks and only keep the relevant columns\n",
    "if load_existing and os.path.exists(parquet_path):\n",
    "    print(f\"Loading existing parquet file from {parquet_path}\")\n",
    "    data_df = pd.read_parquet(parquet_path, engine='pyarrow')\n",
    "    display(data_df.head(2), data_df.tail(2))\n",
    "    print(f\"Loaded {len(data_df)} rows\")\n",
    "else:\n",
    "    columns_to_keep = ['id', 'title', 'abstract', 'categories', 'update_date']\n",
    "    dtypes = {'id': str, 'title': str, 'abstract': str, 'categories': str, 'update_date': str}\n",
    "    chunksize = 100_000\n",
    "    reader = pd.read_json(json_path, lines=True, chunksize=chunksize)\n",
    "\n",
    "    data_to_keep = []\n",
    "    for i, chunk in enumerate(reader):\n",
    "        print(f\"Processing chunk {i} - so far {len(data_to_keep) * chunksize} rows\")\n",
    "        data_to_keep.append(chunk[columns_to_keep].to_dict(orient='records'))\n",
    "    data_to_keep = [item for sublist in data_to_keep for item in sublist]\n",
    "    new_df = pd.DataFrame(data_to_keep).reset_index(drop=True)\n",
    "    for col in columns_to_keep:\n",
    "        new_df[col] = new_df[col].astype(dtypes[col])\n",
    "    del data_to_keep\n",
    "\n",
    "    display(new_df.head(2), new_df.tail(2))\n",
    "\n",
    "    new_df.to_parquet(parquet_path, compression='gzip', engine='pyarrow')"
   ]
  },
  {
   "cell_type": "code",
   "execution_count": 4,
   "metadata": {},
   "outputs": [
    {
     "data": {
      "text/html": [
       "<div>\n",
       "<style scoped>\n",
       "    .dataframe tbody tr th:only-of-type {\n",
       "        vertical-align: middle;\n",
       "    }\n",
       "\n",
       "    .dataframe tbody tr th {\n",
       "        vertical-align: top;\n",
       "    }\n",
       "\n",
       "    .dataframe thead th {\n",
       "        text-align: right;\n",
       "    }\n",
       "</style>\n",
       "<table border=\"1\" class=\"dataframe\">\n",
       "  <thead>\n",
       "    <tr style=\"text-align: right;\">\n",
       "      <th></th>\n",
       "      <th>id</th>\n",
       "      <th>title</th>\n",
       "      <th>abstract</th>\n",
       "      <th>categories</th>\n",
       "      <th>update_date</th>\n",
       "      <th>title_words</th>\n",
       "      <th>abstract_words</th>\n",
       "      <th>mapped_categories</th>\n",
       "      <th>amount_categories</th>\n",
       "      <th>update_year</th>\n",
       "    </tr>\n",
       "  </thead>\n",
       "  <tbody>\n",
       "    <tr>\n",
       "      <th>0</th>\n",
       "      <td>704.0001</td>\n",
       "      <td>Calculation of prompt diphoton production cros...</td>\n",
       "      <td>A fully differential calculation in perturba...</td>\n",
       "      <td>[hep-ph]</td>\n",
       "      <td>2008-11-26</td>\n",
       "      <td>12</td>\n",
       "      <td>140</td>\n",
       "      <td>[High Energy Physics - Phenomenology]</td>\n",
       "      <td>1</td>\n",
       "      <td>2008</td>\n",
       "    </tr>\n",
       "    <tr>\n",
       "      <th>1</th>\n",
       "      <td>704.0002</td>\n",
       "      <td>Sparsity-certifying Graph Decompositions</td>\n",
       "      <td>We describe a new algorithm, the $(k,\\ell)$-...</td>\n",
       "      <td>[math.CO, cs.CG]</td>\n",
       "      <td>2008-12-13</td>\n",
       "      <td>3</td>\n",
       "      <td>115</td>\n",
       "      <td>[Combinatorics, Computational Geometry]</td>\n",
       "      <td>2</td>\n",
       "      <td>2008</td>\n",
       "    </tr>\n",
       "    <tr>\n",
       "      <th>2</th>\n",
       "      <td>704.0003</td>\n",
       "      <td>The evolution of the Earth-Moon system based o...</td>\n",
       "      <td>The evolution of Earth-Moon system is descri...</td>\n",
       "      <td>[physics.gen-ph]</td>\n",
       "      <td>2008-01-13</td>\n",
       "      <td>14</td>\n",
       "      <td>144</td>\n",
       "      <td>[General Physics]</td>\n",
       "      <td>1</td>\n",
       "      <td>2008</td>\n",
       "    </tr>\n",
       "  </tbody>\n",
       "</table>\n",
       "</div>"
      ],
      "text/plain": [
       "         id                                              title  \\\n",
       "0  704.0001  Calculation of prompt diphoton production cros...   \n",
       "1  704.0002           Sparsity-certifying Graph Decompositions   \n",
       "2  704.0003  The evolution of the Earth-Moon system based o...   \n",
       "\n",
       "                                            abstract        categories  \\\n",
       "0    A fully differential calculation in perturba...          [hep-ph]   \n",
       "1    We describe a new algorithm, the $(k,\\ell)$-...  [math.CO, cs.CG]   \n",
       "2    The evolution of Earth-Moon system is descri...  [physics.gen-ph]   \n",
       "\n",
       "  update_date  title_words  abstract_words  \\\n",
       "0  2008-11-26           12             140   \n",
       "1  2008-12-13            3             115   \n",
       "2  2008-01-13           14             144   \n",
       "\n",
       "                         mapped_categories  amount_categories  update_year  \n",
       "0    [High Energy Physics - Phenomenology]                  1         2008  \n",
       "1  [Combinatorics, Computational Geometry]                  2         2008  \n",
       "2                        [General Physics]                  1         2008  "
      ]
     },
     "execution_count": 4,
     "metadata": {},
     "output_type": "execute_result"
    }
   ],
   "source": [
    "data_df['title_words'] = data_df['title'].apply(lambda x: len(x.split()))\n",
    "data_df['abstract_words'] = data_df['abstract'].apply(lambda x: len(x.split()))\n",
    "data_df['categories'] = data_df['categories'].apply(lambda x: x.split())\n",
    "data_df['mapped_categories'] = data_df['categories'].apply(lambda x: [category_map[cat] if cat in category_map else \"UNKNOWN\" for cat in x])\n",
    "data_df['amount_categories'] = data_df['categories'].apply(lambda x: len(x))\n",
    "data_df['update_year'] = data_df['update_date'].apply(lambda x: int(x[:4]))\n",
    "data_df.head(3)"
   ]
  },
  {
   "cell_type": "code",
   "execution_count": 5,
   "metadata": {},
   "outputs": [],
   "source": [
    "# use mapped categories and build super categories\n",
    "with open('../data/super_categories.json', 'r') as f:\n",
    "    super_categories = json.load(f)\n",
    "super_category_map = {cat: super_cat for super_cat, cats in super_categories.items() for cat in cats}\n",
    "\n",
    "data_df['super_categories'] = data_df['mapped_categories'].apply(\n",
    "        lambda x: [super_category_map[cat] if cat in super_category_map else f\"UNKNOWN_{cat}\" for cat in x]\n",
    "    )\n",
    "# take the super group with the most occurrences\n",
    "data_df['super_category'] = data_df['super_categories'].apply(lambda x: max(set(x), key=x.count))\n",
    "data_df['amount_super_categories'] = data_df['super_categories'].apply(lambda x: len(set(x)))"
   ]
  },
  {
   "cell_type": "code",
   "execution_count": 6,
   "metadata": {},
   "outputs": [
    {
     "name": "stdout",
     "output_type": "stream",
     "text": [
      "Max number of words in title: 61\n",
      "Max number of words in abstract: 925\n",
      "--------------------------------------------------\n",
      "Min number of words in title: 1\n",
      "Min number of words in abstract: 1\n",
      "--------------------------------------------------\n",
      "Mean number of words in title: 9.751281534798125\n",
      "Mean number of words in abstract: 140.6586021168989\n",
      "--------------------------------------------------\n",
      "Median number of words in title: 9.0\n",
      "Median number of words in abstract: 135.0\n"
     ]
    }
   ],
   "source": [
    "print(f'Max number of words in title: {data_df[\"title_words\"].max()}')\n",
    "print(f'Max number of words in abstract: {data_df[\"abstract_words\"].max()}')\n",
    "print(\"-\" * 50)\n",
    "print(f'Min number of words in title: {data_df[\"title_words\"].min()}')\n",
    "print(f'Min number of words in abstract: {data_df[\"abstract_words\"].min()}')\n",
    "print(\"-\" * 50)\n",
    "print(f'Mean number of words in title: {data_df[\"title_words\"].mean()}')\n",
    "print(f'Mean number of words in abstract: {data_df[\"abstract_words\"].mean()}')\n",
    "print(\"-\" * 50)\n",
    "print(f'Median number of words in title: {data_df[\"title_words\"].median()}')\n",
    "print(f'Median number of words in abstract: {data_df[\"abstract_words\"].median()}')"
   ]
  },
  {
   "cell_type": "code",
   "execution_count": 7,
   "metadata": {},
   "outputs": [
    {
     "data": {
      "text/plain": [
       "<Axes: xlabel='title_words', ylabel='Count'>"
      ]
     },
     "execution_count": 7,
     "metadata": {},
     "output_type": "execute_result"
    },
    {
     "data": {
      "image/png": "[encoded data removed]",
      "text/plain": [
       "<Figure size 640x480 with 1 Axes>"
      ]
     },
     "metadata": {},
     "output_type": "display_data"
    }
   ],
   "source": [
    "# histogram of number of words in titles and abstracts\n",
    "sns.histplot(data_df['title_words'], bins=30, log_scale=True)"
   ]
  },
  {
   "cell_type": "code",
   "execution_count": 8,
   "metadata": {},
   "outputs": [
    {
     "data": {
      "text/plain": [
       "<Axes: xlabel='abstract_words', ylabel='Count'>"
      ]
     },
     "execution_count": 8,
     "metadata": {},
     "output_type": "execute_result"
    },
    {
     "data": {
      "image/png": "[encoded data removed]",
      "text/plain": [
       "<Figure size 640x480 with 1 Axes>"
      ]
     },
     "metadata": {},
     "output_type": "display_data"
    }
   ],
   "source": [
    "sns.histplot(data_df['abstract_words'], bins=30, log_scale=True)"
   ]
  },
  {
   "cell_type": "code",
   "execution_count": 9,
   "metadata": {},
   "outputs": [
    {
     "name": "stdout",
     "output_type": "stream",
     "text": [
      "[1] Physics: 1272207\n",
      "[2] Computer Science: 547815\n",
      "[3] Mathematics: 523809\n",
      "[4] Statistics: 54618\n",
      "[5] Electrical Engineering and Systems Science: 35275\n",
      "[6] Quantitative Biology: 19036\n",
      "[7] Economics: 14164\n",
      "[8] UNKNOWN_Not available: 10379\n",
      "Total categories: 8\n"
     ]
    },
    {
     "data": {
      "image/png": "[encoded data removed]",
      "text/plain": [
       "<Figure size 1000x500 with 1 Axes>"
      ]
     },
     "metadata": {},
     "output_type": "display_data"
    }
   ],
   "source": [
    "from matplotlib import pyplot as plt\n",
    "\n",
    "\n",
    "def print_category_counts(data_df):\n",
    "    category_counts = data_df['super_category'].value_counts().sort_values(ascending=False)\n",
    "    for i, (cat, count) in enumerate(category_counts.items(), 1):\n",
    "        print(f\"[{i}] {cat}: {count}\")\n",
    "    print(f\"Total categories: {len(category_counts)}\")\n",
    "\n",
    "def plot_category_counts(data_df, fig_size=(10, 5)):\n",
    "    category_counts = data_df['super_category'].value_counts().sort_values(ascending=False)\n",
    "    fig = plt.figure(figsize=fig_size)\n",
    "    sns.set(style=\"whitegrid\")\n",
    "    sns.set_color_codes(\"pastel\")\n",
    "    sns.set_context(\"notebook\")\n",
    "    sns.barplot(y=category_counts.index, x=category_counts.values)\n",
    "\n",
    "print_category_counts(data_df)\n",
    "plot_category_counts(data_df)"
   ]
  },
  {
   "cell_type": "code",
   "execution_count": null,
   "metadata": {},
   "outputs": [],
   "source": []
  },
  {
   "cell_type": "code",
   "execution_count": 10,
   "metadata": {},
   "outputs": [
    {
     "name": "stdout",
     "output_type": "stream",
     "text": [
      "Min words in title: 1\n",
      "Min words in abstract: 1\n",
      "Max words in title: 61\n",
      "Max words in abstract: 925\n"
     ]
    },
    {
     "data": {
      "text/html": [
       "<div>\n",
       "<style scoped>\n",
       "    .dataframe tbody tr th:only-of-type {\n",
       "        vertical-align: middle;\n",
       "    }\n",
       "\n",
       "    .dataframe tbody tr th {\n",
       "        vertical-align: top;\n",
       "    }\n",
       "\n",
       "    .dataframe thead th {\n",
       "        text-align: right;\n",
       "    }\n",
       "</style>\n",
       "<table border=\"1\" class=\"dataframe\">\n",
       "  <thead>\n",
       "    <tr style=\"text-align: right;\">\n",
       "      <th></th>\n",
       "      <th>id</th>\n",
       "      <th>title</th>\n",
       "      <th>abstract</th>\n",
       "      <th>categories</th>\n",
       "      <th>update_date</th>\n",
       "      <th>title_words</th>\n",
       "      <th>abstract_words</th>\n",
       "      <th>mapped_categories</th>\n",
       "      <th>amount_categories</th>\n",
       "      <th>update_year</th>\n",
       "      <th>super_categories</th>\n",
       "      <th>super_category</th>\n",
       "      <th>amount_super_categories</th>\n",
       "    </tr>\n",
       "  </thead>\n",
       "  <tbody>\n",
       "    <tr>\n",
       "      <th>1378</th>\n",
       "      <td>704.1379</td>\n",
       "      <td>U-max-Statistics</td>\n",
       "      <td>In 1948, W. Hoeffding introduced a large cla...</td>\n",
       "      <td>[math.ST, math.PR, stat.TH]</td>\n",
       "      <td>2007-05-23</td>\n",
       "      <td>1</td>\n",
       "      <td>97</td>\n",
       "      <td>[Statistics Theory, Probability, Statistics Th...</td>\n",
       "      <td>3</td>\n",
       "      <td>2007</td>\n",
       "      <td>[Statistics, Mathematics, Statistics]</td>\n",
       "      <td>Statistics</td>\n",
       "      <td>2</td>\n",
       "    </tr>\n",
       "    <tr>\n",
       "      <th>6895</th>\n",
       "      <td>705.2893</td>\n",
       "      <td>K-Bounce</td>\n",
       "      <td>By demanding that a bounce is nonsingular an...</td>\n",
       "      <td>[astro-ph, gr-qc, hep-th]</td>\n",
       "      <td>2008-11-26</td>\n",
       "      <td>1</td>\n",
       "      <td>90</td>\n",
       "      <td>[Astrophysics, General Relativity and Quantum ...</td>\n",
       "      <td>3</td>\n",
       "      <td>2008</td>\n",
       "      <td>[Physics, Physics, Physics]</td>\n",
       "      <td>Physics</td>\n",
       "      <td>1</td>\n",
       "    </tr>\n",
       "    <tr>\n",
       "      <th>11607</th>\n",
       "      <td>706.2921</td>\n",
       "      <td>Herwig++</td>\n",
       "      <td>We describe the recent development of the He...</td>\n",
       "      <td>[hep-ph]</td>\n",
       "      <td>2007-06-21</td>\n",
       "      <td>1</td>\n",
       "      <td>10</td>\n",
       "      <td>[High Energy Physics - Phenomenology]</td>\n",
       "      <td>1</td>\n",
       "      <td>2007</td>\n",
       "      <td>[Physics]</td>\n",
       "      <td>Physics</td>\n",
       "      <td>1</td>\n",
       "    </tr>\n",
       "  </tbody>\n",
       "</table>\n",
       "</div>"
      ],
      "text/plain": [
       "             id             title  \\\n",
       "1378   704.1379  U-max-Statistics   \n",
       "6895   705.2893          K-Bounce   \n",
       "11607  706.2921          Herwig++   \n",
       "\n",
       "                                                abstract  \\\n",
       "1378     In 1948, W. Hoeffding introduced a large cla...   \n",
       "6895     By demanding that a bounce is nonsingular an...   \n",
       "11607    We describe the recent development of the He...   \n",
       "\n",
       "                        categories update_date  title_words  abstract_words  \\\n",
       "1378   [math.ST, math.PR, stat.TH]  2007-05-23            1              97   \n",
       "6895     [astro-ph, gr-qc, hep-th]  2008-11-26            1              90   \n",
       "11607                     [hep-ph]  2007-06-21            1              10   \n",
       "\n",
       "                                       mapped_categories  amount_categories  \\\n",
       "1378   [Statistics Theory, Probability, Statistics Th...                  3   \n",
       "6895   [Astrophysics, General Relativity and Quantum ...                  3   \n",
       "11607              [High Energy Physics - Phenomenology]                  1   \n",
       "\n",
       "       update_year                       super_categories super_category  \\\n",
       "1378          2007  [Statistics, Mathematics, Statistics]     Statistics   \n",
       "6895          2008            [Physics, Physics, Physics]        Physics   \n",
       "11607         2007                              [Physics]        Physics   \n",
       "\n",
       "       amount_super_categories  \n",
       "1378                         2  \n",
       "6895                         1  \n",
       "11607                        1  "
      ]
     },
     "metadata": {},
     "output_type": "display_data"
    },
    {
     "data": {
      "text/html": [
       "<div>\n",
       "<style scoped>\n",
       "    .dataframe tbody tr th:only-of-type {\n",
       "        vertical-align: middle;\n",
       "    }\n",
       "\n",
       "    .dataframe tbody tr th {\n",
       "        vertical-align: top;\n",
       "    }\n",
       "\n",
       "    .dataframe thead th {\n",
       "        text-align: right;\n",
       "    }\n",
       "</style>\n",
       "<table border=\"1\" class=\"dataframe\">\n",
       "  <thead>\n",
       "    <tr style=\"text-align: right;\">\n",
       "      <th></th>\n",
       "      <th>id</th>\n",
       "      <th>title</th>\n",
       "      <th>abstract</th>\n",
       "      <th>categories</th>\n",
       "      <th>update_date</th>\n",
       "      <th>title_words</th>\n",
       "      <th>abstract_words</th>\n",
       "      <th>mapped_categories</th>\n",
       "      <th>amount_categories</th>\n",
       "      <th>update_year</th>\n",
       "      <th>super_categories</th>\n",
       "      <th>super_category</th>\n",
       "      <th>amount_super_categories</th>\n",
       "    </tr>\n",
       "  </thead>\n",
       "  <tbody>\n",
       "    <tr>\n",
       "      <th>766954</th>\n",
       "      <td>1609.01476</td>\n",
       "      <td>Can decay be ascribed to classical noise?</td>\n",
       "      <td>No.\\n</td>\n",
       "      <td>[quant-ph, math-ph, math.MP]</td>\n",
       "      <td>2017-05-10</td>\n",
       "      <td>7</td>\n",
       "      <td>1</td>\n",
       "      <td>[Quantum Physics, Mathematical Physics, Mathem...</td>\n",
       "      <td>3</td>\n",
       "      <td>2017</td>\n",
       "      <td>[Physics, Mathematics, Mathematics]</td>\n",
       "      <td>Mathematics</td>\n",
       "      <td>2</td>\n",
       "    </tr>\n",
       "    <tr>\n",
       "      <th>1008542</th>\n",
       "      <td>1807.11336</td>\n",
       "      <td>Are theoretical results 'Results'?</td>\n",
       "      <td>Yes.\\n</td>\n",
       "      <td>[q-bio.OT, cond-mat.soft, physics.bio-ph]</td>\n",
       "      <td>2018-07-31</td>\n",
       "      <td>4</td>\n",
       "      <td>1</td>\n",
       "      <td>[Other Quantitative Biology, Soft Condensed Ma...</td>\n",
       "      <td>3</td>\n",
       "      <td>2018</td>\n",
       "      <td>[Quantitative Biology, Physics, Physics]</td>\n",
       "      <td>Physics</td>\n",
       "      <td>2</td>\n",
       "    </tr>\n",
       "    <tr>\n",
       "      <th>1083406</th>\n",
       "      <td>1902.02322</td>\n",
       "      <td>Is AmI (Attacks Meet Interpretability) Robust ...</td>\n",
       "      <td>No.\\n</td>\n",
       "      <td>[cs.LG, cs.AI, cs.CR, stat.ML]</td>\n",
       "      <td>2019-02-07</td>\n",
       "      <td>9</td>\n",
       "      <td>1</td>\n",
       "      <td>[Machine Learning, Artificial Intelligence, Cr...</td>\n",
       "      <td>4</td>\n",
       "      <td>2019</td>\n",
       "      <td>[Computer Science, Computer Science, Computer ...</td>\n",
       "      <td>Computer Science</td>\n",
       "      <td>2</td>\n",
       "    </tr>\n",
       "  </tbody>\n",
       "</table>\n",
       "</div>"
      ],
      "text/plain": [
       "                 id                                              title  \\\n",
       "766954   1609.01476          Can decay be ascribed to classical noise?   \n",
       "1008542  1807.11336                 Are theoretical results 'Results'?   \n",
       "1083406  1902.02322  Is AmI (Attacks Meet Interpretability) Robust ...   \n",
       "\n",
       "         abstract                                 categories update_date  \\\n",
       "766954      No.\\n               [quant-ph, math-ph, math.MP]  2017-05-10   \n",
       "1008542    Yes.\\n  [q-bio.OT, cond-mat.soft, physics.bio-ph]  2018-07-31   \n",
       "1083406     No.\\n             [cs.LG, cs.AI, cs.CR, stat.ML]  2019-02-07   \n",
       "\n",
       "         title_words  abstract_words  \\\n",
       "766954             7               1   \n",
       "1008542            4               1   \n",
       "1083406            9               1   \n",
       "\n",
       "                                         mapped_categories  amount_categories  \\\n",
       "766954   [Quantum Physics, Mathematical Physics, Mathem...                  3   \n",
       "1008542  [Other Quantitative Biology, Soft Condensed Ma...                  3   \n",
       "1083406  [Machine Learning, Artificial Intelligence, Cr...                  4   \n",
       "\n",
       "         update_year                                   super_categories  \\\n",
       "766954          2017                [Physics, Mathematics, Mathematics]   \n",
       "1008542         2018           [Quantitative Biology, Physics, Physics]   \n",
       "1083406         2019  [Computer Science, Computer Science, Computer ...   \n",
       "\n",
       "           super_category  amount_super_categories  \n",
       "766954        Mathematics                        2  \n",
       "1008542           Physics                        2  \n",
       "1083406  Computer Science                        2  "
      ]
     },
     "metadata": {},
     "output_type": "display_data"
    },
    {
     "name": "stdout",
     "output_type": "stream",
     "text": [
      "Title quantiles: (5.0, 15.0)\n",
      "Abstract quantiles: (24.0, 233.0)\n",
      "Papers before cleaning: 2466924\n",
      "Papers after cleaning: 1961741\n"
     ]
    }
   ],
   "source": [
    "# Remove papers with UNKNOWN_Not available category\n",
    "data_clean_df = data_df[data_df['super_category'] != 'UNKNOWN_Not available'].reset_index(drop=True)\n",
    "\n",
    "min_words_title = data_clean_df['title_words'].min()\n",
    "min_words_abstract = data_clean_df['abstract_words'].min()\n",
    "max_words_title = data_clean_df['title_words'].max()\n",
    "max_words_abstract = data_clean_df['abstract_words'].max()\n",
    "print(f\"Min words in title: {min_words_title}\")\n",
    "print(f\"Min words in abstract: {min_words_abstract}\")\n",
    "print(f\"Max words in title: {max_words_title}\")\n",
    "print(f\"Max words in abstract: {max_words_abstract}\")\n",
    "\n",
    "# show examples of papers with very few words in the title\n",
    "display(data_clean_df[data_clean_df['title_words'] == min_words_title].head(3))\n",
    "display(data_clean_df[data_clean_df['abstract_words'] == min_words_abstract].head(3))\n",
    "\n",
    "# For now we will remove papers with less than 25p quantile of words in abstract and title and more than 75p quantile\n",
    "title_quantiles = data_clean_df['title_words'].quantile(0.05), data_clean_df['title_words'].quantile(0.9)\n",
    "abstract_quantiles = data_clean_df['abstract_words'].quantile(0.01), data_clean_df['abstract_words'].quantile(0.9)\n",
    "print(f\"Title quantiles: {title_quantiles}\")\n",
    "print(f\"Abstract quantiles: {abstract_quantiles}\")\n",
    "\n",
    "# remove papers with less than 25p quantile of words in abstract and title and more than 75p quantile\n",
    "data_clean_simple_df = data_clean_df[\n",
    "    (data_clean_df['title_words'] >= title_quantiles[0]) & (data_clean_df['title_words'] <= title_quantiles[1]) &\n",
    "    (data_clean_df['abstract_words'] >= abstract_quantiles[0]) & (data_clean_df['abstract_words'] <= abstract_quantiles[1])\n",
    "].reset_index(drop=True)\n",
    "print(f\"Papers before cleaning: {len(data_clean_df)}\")\n",
    "print(f\"Papers after cleaning: {len(data_clean_simple_df)}\")"
   ]
  },
  {
   "cell_type": "code",
   "execution_count": 11,
   "metadata": {},
   "outputs": [
    {
     "name": "stdout",
     "output_type": "stream",
     "text": [
      "[1] Physics: 977778\n",
      "[2] Computer Science: 444017\n",
      "[3] Mathematics: 442590\n",
      "[4] Statistics: 43614\n",
      "[5] Electrical Engineering and Systems Science: 29502\n",
      "[6] Quantitative Biology: 13118\n",
      "[7] Economics: 11122\n",
      "Total categories: 7\n"
     ]
    },
    {
     "data": {
      "image/png": "[encoded data removed]",
      "text/plain": [
       "<Figure size 1000x500 with 1 Axes>"
      ]
     },
     "metadata": {},
     "output_type": "display_data"
    }
   ],
   "source": [
    "print_category_counts(data_clean_simple_df)\n",
    "plot_category_counts(data_clean_simple_df)"
   ]
  },
  {
   "cell_type": "code",
   "execution_count": 12,
   "metadata": {},
   "outputs": [
    {
     "data": {
      "text/plain": [
       "<Axes: xlabel='amount_super_categories'>"
      ]
     },
     "execution_count": 12,
     "metadata": {},
     "output_type": "execute_result"
    },
    {
     "data": {
      "image/png": "[encoded data removed]",
      "text/plain": [
       "<Figure size 640x480 with 1 Axes>"
      ]
     },
     "metadata": {},
     "output_type": "display_data"
    }
   ],
   "source": [
    "# plot hist of amount_super_categories\n",
    "sns.barplot(x=data_clean_simple_df['amount_super_categories'].value_counts().index, y=data_clean_simple_df['amount_super_categories'].value_counts().values)"
   ]
  },
  {
   "cell_type": "code",
   "execution_count": 16,
   "metadata": {},
   "outputs": [
    {
     "name": "stdout",
     "output_type": "stream",
     "text": [
      "[1] Physics: 977778\n",
      "[2] Computer Science: 444017\n",
      "[3] Mathematics: 442590\n",
      "[4] Statistics: 43614\n",
      "[5] Electrical Engineering and Systems Science: 29502\n",
      "[6] Quantitative Biology: 13118\n",
      "[7] Economics: 11122\n",
      "Total categories: 7\n"
     ]
    },
    {
     "data": {
      "image/png": "[encoded data removed]",
      "text/plain": [
       "<Figure size 1000x500 with 1 Axes>"
      ]
     },
     "metadata": {},
     "output_type": "display_data"
    }
   ],
   "source": [
    "max_amount_super_categories = 100\n",
    "\n",
    "data_clean_reduced_df = data_clean_simple_df[data_clean_simple_df['amount_super_categories'] <= max_amount_super_categories]\n",
    "\n",
    "print_category_counts(data_clean_reduced_df)\n",
    "plot_category_counts(data_clean_reduced_df)"
   ]
  },
  {
   "cell_type": "code",
   "execution_count": 17,
   "metadata": {},
   "outputs": [
    {
     "name": "stderr",
     "output_type": "stream",
     "text": [
      "C:\\Users\\gabri\\AppData\\Local\\Temp\\ipykernel_37120\\3925470554.py:6: DeprecationWarning: DataFrameGroupBy.apply operated on the grouping columns. This behavior is deprecated, and in a future version of pandas the grouping columns will be excluded from the operation. Either pass `include_groups=False` to exclude the groupings or explicitly select the grouping columns after groupby to silence this warning.\n",
      "  .apply(lambda x: x.sample(min(sample_per_category, len(x)), random_state=42))\n"
     ]
    }
   ],
   "source": [
    "sample_per_category = 10000\n",
    "\n",
    "\n",
    "data_clean_reduced_df = (\n",
    "    data_clean_reduced_df.groupby(\"super_category\")\n",
    "    .apply(lambda x: x.sample(min(sample_per_category, len(x)), random_state=42))\n",
    "    .reset_index(drop=True)\n",
    ")"
   ]
  },
  {
   "cell_type": "code",
   "execution_count": 18,
   "metadata": {},
   "outputs": [],
   "source": [
    "data_clean_reduced_df.to_parquet(\"../data/arxiv_metadata_sample.parquet.gzip\", compression=\"gzip\", engine=\"pyarrow\")"
   ]
  },
  {
   "cell_type": "code",
   "execution_count": null,
   "metadata": {},
   "outputs": [],
   "source": []
  },
  {
   "cell_type": "code",
   "execution_count": null,
   "metadata": {},
   "outputs": [],
   "source": []
  },
  {
   "cell_type": "code",
   "execution_count": null,
   "metadata": {},
   "outputs": [],
   "source": []
  }
 ],
 "metadata": {
  "kernelspec": {
   "display_name": ".venv311",
   "language": "python",
   "name": "python3"
  },
  "language_info": {
   "codemirror_mode": {
    "name": "ipython",
    "version": 3
   },
   "file_extension": ".py",
   "mimetype": "text/x-python",
   "name": "python",
   "nbconvert_exporter": "python",
   "pygments_lexer": "ipython3",
   "version": "3.11.6"
  }
 },
 "nbformat": 4,
 "nbformat_minor": 2
}
