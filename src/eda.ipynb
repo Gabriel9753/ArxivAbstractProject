{
 "cells": [
  {
   "cell_type": "code",
   "execution_count": 7,
   "metadata": {},
   "outputs": [],
   "source": [
    "import os\n",
    "\n",
    "import pandas as pd\n",
    "import seaborn as sns\n",
    "import torch\n",
    "import torch.nn.functional as F\n",
    "from tqdm.notebook import tqdm\n",
    "from transformers import AutoModel, AutoTokenizer"
   ]
  },
  {
   "cell_type": "code",
   "execution_count": 8,
   "metadata": {},
   "outputs": [],
   "source": [
    "cache_dir = 'cache'\n",
    "if not os.path.exists(cache_dir):\n",
    "    os.makedirs(cache_dir)\n",
    "\n",
    "json_path = '../data/arxiv-metadata-oai-snapshot.json'\n",
    "if not os.path.exists(json_path):\n",
    "    raise FileNotFoundError(f\"Please download the arXiv metadata from {json_path}\")\n",
    "\n",
    "load_existing = True\n",
    "parquet_path = '../data/arxiv_metadata.parquet.gzip'"
   ]
  },
  {
   "cell_type": "markdown",
   "metadata": {},
   "source": [
    "## Process json"
   ]
  },
  {
   "cell_type": "code",
   "execution_count": 9,
   "metadata": {},
   "outputs": [
    {
     "name": "stdout",
     "output_type": "stream",
     "text": [
      "Loading existing parquet file from ../data/arxiv_metadata.parquet.gzip\n"
     ]
    },
    {
     "data": {
      "text/html": [
       "<div>\n",
       "<style scoped>\n",
       "    .dataframe tbody tr th:only-of-type {\n",
       "        vertical-align: middle;\n",
       "    }\n",
       "\n",
       "    .dataframe tbody tr th {\n",
       "        vertical-align: top;\n",
       "    }\n",
       "\n",
       "    .dataframe thead th {\n",
       "        text-align: right;\n",
       "    }\n",
       "</style>\n",
       "<table border=\"1\" class=\"dataframe\">\n",
       "  <thead>\n",
       "    <tr style=\"text-align: right;\">\n",
       "      <th></th>\n",
       "      <th>id</th>\n",
       "      <th>title</th>\n",
       "      <th>abstract</th>\n",
       "      <th>categories</th>\n",
       "      <th>update_date</th>\n",
       "    </tr>\n",
       "  </thead>\n",
       "  <tbody>\n",
       "    <tr>\n",
       "      <th>0</th>\n",
       "      <td>704.0001</td>\n",
       "      <td>Calculation of prompt diphoton production cros...</td>\n",
       "      <td>A fully differential calculation in perturba...</td>\n",
       "      <td>hep-ph</td>\n",
       "      <td>2008-11-26</td>\n",
       "    </tr>\n",
       "    <tr>\n",
       "      <th>1</th>\n",
       "      <td>704.0002</td>\n",
       "      <td>Sparsity-certifying Graph Decompositions</td>\n",
       "      <td>We describe a new algorithm, the $(k,\\ell)$-...</td>\n",
       "      <td>math.CO cs.CG</td>\n",
       "      <td>2008-12-13</td>\n",
       "    </tr>\n",
       "  </tbody>\n",
       "</table>\n",
       "</div>"
      ],
      "text/plain": [
       "         id                                              title  \\\n",
       "0  704.0001  Calculation of prompt diphoton production cros...   \n",
       "1  704.0002           Sparsity-certifying Graph Decompositions   \n",
       "\n",
       "                                            abstract     categories  \\\n",
       "0    A fully differential calculation in perturba...         hep-ph   \n",
       "1    We describe a new algorithm, the $(k,\\ell)$-...  math.CO cs.CG   \n",
       "\n",
       "  update_date  \n",
       "0  2008-11-26  \n",
       "1  2008-12-13  "
      ]
     },
     "metadata": {},
     "output_type": "display_data"
    },
    {
     "data": {
      "text/html": [
       "<div>\n",
       "<style scoped>\n",
       "    .dataframe tbody tr th:only-of-type {\n",
       "        vertical-align: middle;\n",
       "    }\n",
       "\n",
       "    .dataframe tbody tr th {\n",
       "        vertical-align: top;\n",
       "    }\n",
       "\n",
       "    .dataframe thead th {\n",
       "        text-align: right;\n",
       "    }\n",
       "</style>\n",
       "<table border=\"1\" class=\"dataframe\">\n",
       "  <thead>\n",
       "    <tr style=\"text-align: right;\">\n",
       "      <th></th>\n",
       "      <th>id</th>\n",
       "      <th>title</th>\n",
       "      <th>abstract</th>\n",
       "      <th>categories</th>\n",
       "      <th>update_date</th>\n",
       "    </tr>\n",
       "  </thead>\n",
       "  <tbody>\n",
       "    <tr>\n",
       "      <th>2477301</th>\n",
       "      <td>supr-con/9609003</td>\n",
       "      <td>Density of States and NMR Relaxation Rate in A...</td>\n",
       "      <td>We show that the density of states in an ani...</td>\n",
       "      <td>supr-con cond-mat.supr-con</td>\n",
       "      <td>2009-10-30</td>\n",
       "    </tr>\n",
       "    <tr>\n",
       "      <th>2477302</th>\n",
       "      <td>supr-con/9609004</td>\n",
       "      <td>Ginzburg Landau theory for d-wave pairing and ...</td>\n",
       "      <td>The Ginzburg Landau theory for d_{x^2-y^2}-w...</td>\n",
       "      <td>supr-con cond-mat.supr-con</td>\n",
       "      <td>2009-10-30</td>\n",
       "    </tr>\n",
       "  </tbody>\n",
       "</table>\n",
       "</div>"
      ],
      "text/plain": [
       "                       id                                              title  \\\n",
       "2477301  supr-con/9609003  Density of States and NMR Relaxation Rate in A...   \n",
       "2477302  supr-con/9609004  Ginzburg Landau theory for d-wave pairing and ...   \n",
       "\n",
       "                                                  abstract  \\\n",
       "2477301    We show that the density of states in an ani...   \n",
       "2477302    The Ginzburg Landau theory for d_{x^2-y^2}-w...   \n",
       "\n",
       "                         categories update_date  \n",
       "2477301  supr-con cond-mat.supr-con  2009-10-30  \n",
       "2477302  supr-con cond-mat.supr-con  2009-10-30  "
      ]
     },
     "metadata": {},
     "output_type": "display_data"
    },
    {
     "name": "stdout",
     "output_type": "stream",
     "text": [
      "Loaded 2477303 rows\n"
     ]
    }
   ],
   "source": [
    "# load json into pandas dataframe in chunks and only keep the relevant columns\n",
    "if load_existing and os.path.exists(parquet_path):\n",
    "    print(f\"Loading existing parquet file from {parquet_path}\")\n",
    "    data_df = pd.read_parquet(parquet_path, engine='pyarrow')\n",
    "    display(data_df.head(2), data_df.tail(2))\n",
    "    print(f\"Loaded {len(data_df)} rows\")\n",
    "else:\n",
    "    columns_to_keep = ['id', 'title', 'abstract', 'categories', 'update_date']\n",
    "    dtypes = {'id': str, 'title': str, 'abstract': str, 'categories': str, 'update_date': str}\n",
    "    chunksize = 100_000\n",
    "    reader = pd.read_json(json_path, lines=True, chunksize=chunksize)\n",
    "\n",
    "    data_to_keep = []\n",
    "    for i, chunk in enumerate(reader):\n",
    "        print(f\"Processing chunk {i} - so far {len(data_to_keep) * chunksize} rows\")\n",
    "        data_to_keep.append(chunk[columns_to_keep].to_dict(orient='records'))\n",
    "    data_to_keep = [item for sublist in data_to_keep for item in sublist]\n",
    "    new_df = pd.DataFrame(data_to_keep).reset_index(drop=True)\n",
    "    for col in columns_to_keep:\n",
    "        new_df[col] = new_df[col].astype(dtypes[col])\n",
    "    del data_to_keep\n",
    "\n",
    "    display(new_df.head(2), new_df.tail(2))\n",
    "\n",
    "    new_df.to_parquet(parquet_path, compression='gzip', engine='pyarrow')"
   ]
  },
  {
   "cell_type": "markdown",
   "metadata": {},
   "source": [
    "## EDA"
   ]
  },
  {
   "cell_type": "code",
   "execution_count": 10,
   "metadata": {},
   "outputs": [],
   "source": [
    "# https://arxiv.org/category_taxonomy\n",
    "category_map = {\n",
    "    # These created errors when mapping categories to descriptions\n",
    "    \"acc-phys\": \"Accelerator Physics\",\n",
    "    \"adap-org\": \"Not available\",\n",
    "    \"q-bio\": \"Not available\",\n",
    "    \"cond-mat\": \"Not available\",\n",
    "    \"chao-dyn\": \"Not available\",\n",
    "    \"patt-sol\": \"Not available\",\n",
    "    \"dg-ga\": \"Not available\",\n",
    "    \"solv-int\": \"Not available\",\n",
    "    \"bayes-an\": \"Not available\",\n",
    "    \"comp-gas\": \"Not available\",\n",
    "    \"alg-geom\": \"Not available\",\n",
    "    \"funct-an\": \"Not available\",\n",
    "    \"q-alg\": \"Not available\",\n",
    "    \"ao-sci\": \"Not available\",\n",
    "    \"atom-ph\": \"Atomic Physics\",\n",
    "    \"chem-ph\": \"Chemical Physics\",\n",
    "    \"plasm-ph\": \"Plasma Physics\",\n",
    "    \"mtrl-th\": \"Not available\",\n",
    "    \"cmp-lg\": \"Not available\",\n",
    "    \"supr-con\": \"Not available\",\n",
    "    ###\n",
    "    # Added\n",
    "    \"econ.GN\": \"General Economics\",\n",
    "    \"econ.TH\": \"Theoretical Economics\",\n",
    "    \"eess.SY\": \"Systems and Control\",\n",
    "    \"astro-ph\": \"Astrophysics\",\n",
    "    \"astro-ph.CO\": \"Cosmology and Nongalactic Astrophysics\",\n",
    "    \"astro-ph.EP\": \"Earth and Planetary Astrophysics\",\n",
    "    \"astro-ph.GA\": \"Astrophysics of Galaxies\",\n",
    "    \"astro-ph.HE\": \"High Energy Astrophysical Phenomena\",\n",
    "    \"astro-ph.IM\": \"Instrumentation and Methods for Astrophysics\",\n",
    "    \"astro-ph.SR\": \"Solar and Stellar Astrophysics\",\n",
    "    \"cond-mat.dis-nn\": \"Disordered Systems and Neural Networks\",\n",
    "    \"cond-mat.mes-hall\": \"Mesoscale and Nanoscale Physics\",\n",
    "    \"cond-mat.mtrl-sci\": \"Materials Science\",\n",
    "    \"cond-mat.other\": \"Other Condensed Matter\",\n",
    "    \"cond-mat.quant-gas\": \"Quantum Gases\",\n",
    "    \"cond-mat.soft\": \"Soft Condensed Matter\",\n",
    "    \"cond-mat.stat-mech\": \"Statistical Mechanics\",\n",
    "    \"cond-mat.str-el\": \"Strongly Correlated Electrons\",\n",
    "    \"cond-mat.supr-con\": \"Superconductivity\",\n",
    "    \"cs.AI\": \"Artificial Intelligence\",\n",
    "    \"cs.AR\": \"Hardware Architecture\",\n",
    "    \"cs.CC\": \"Computational Complexity\",\n",
    "    \"cs.CE\": \"Computational Engineering, Finance, and Science\",\n",
    "    \"cs.CG\": \"Computational Geometry\",\n",
    "    \"cs.CL\": \"Computation and Language\",\n",
    "    \"cs.CR\": \"Cryptography and Security\",\n",
    "    \"cs.CV\": \"Computer Vision and Pattern Recognition\",\n",
    "    \"cs.CY\": \"Computers and Society\",\n",
    "    \"cs.DB\": \"Databases\",\n",
    "    \"cs.DC\": \"Distributed, Parallel, and Cluster Computing\",\n",
    "    \"cs.DL\": \"Digital Libraries\",\n",
    "    \"cs.DM\": \"Discrete Mathematics\",\n",
    "    \"cs.DS\": \"Data Structures and Algorithms\",\n",
    "    \"cs.ET\": \"Emerging Technologies\",\n",
    "    \"cs.FL\": \"Formal Languages and Automata Theory\",\n",
    "    \"cs.GL\": \"General Literature\",\n",
    "    \"cs.GR\": \"Graphics\",\n",
    "    \"cs.GT\": \"Computer Science and Game Theory\",\n",
    "    \"cs.HC\": \"Human-Computer Interaction\",\n",
    "    \"cs.IR\": \"Information Retrieval\",\n",
    "    \"cs.IT\": \"Information Theory\",\n",
    "    \"cs.LG\": \"Machine Learning\",\n",
    "    \"cs.LO\": \"Logic in Computer Science\",\n",
    "    \"cs.MA\": \"Multiagent Systems\",\n",
    "    \"cs.MM\": \"Multimedia\",\n",
    "    \"cs.MS\": \"Mathematical Software\",\n",
    "    \"cs.NA\": \"Numerical Analysis\",\n",
    "    \"cs.NE\": \"Neural and Evolutionary Computing\",\n",
    "    \"cs.NI\": \"Networking and Internet Architecture\",\n",
    "    \"cs.OH\": \"Other Computer Science\",\n",
    "    \"cs.OS\": \"Operating Systems\",\n",
    "    \"cs.PF\": \"Performance\",\n",
    "    \"cs.PL\": \"Programming Languages\",\n",
    "    \"cs.RO\": \"Robotics\",\n",
    "    \"cs.SC\": \"Symbolic Computation\",\n",
    "    \"cs.SD\": \"Sound\",\n",
    "    \"cs.SE\": \"Software Engineering\",\n",
    "    \"cs.SI\": \"Social and Information Networks\",\n",
    "    \"cs.SY\": \"Systems and Control\",\n",
    "    \"econ.EM\": \"Econometrics\",\n",
    "    \"eess.AS\": \"Audio and Speech Processing\",\n",
    "    \"eess.IV\": \"Image and Video Processing\",\n",
    "    \"eess.SP\": \"Signal Processing\",\n",
    "    \"gr-qc\": \"General Relativity and Quantum Cosmology\",\n",
    "    \"hep-ex\": \"High Energy Physics - Experiment\",\n",
    "    \"hep-lat\": \"High Energy Physics - Lattice\",\n",
    "    \"hep-ph\": \"High Energy Physics - Phenomenology\",\n",
    "    \"hep-th\": \"High Energy Physics - Theory\",\n",
    "    \"math.AC\": \"Commutative Algebra\",\n",
    "    \"math.AG\": \"Algebraic Geometry\",\n",
    "    \"math.AP\": \"Analysis of PDEs\",\n",
    "    \"math.AT\": \"Algebraic Topology\",\n",
    "    \"math.CA\": \"Classical Analysis and ODEs\",\n",
    "    \"math.CO\": \"Combinatorics\",\n",
    "    \"math.CT\": \"Category Theory\",\n",
    "    \"math.CV\": \"Complex Variables\",\n",
    "    \"math.DG\": \"Differential Geometry\",\n",
    "    \"math.DS\": \"Dynamical Systems\",\n",
    "    \"math.FA\": \"Functional Analysis\",\n",
    "    \"math.GM\": \"General Mathematics\",\n",
    "    \"math.GN\": \"General Topology\",\n",
    "    \"math.GR\": \"Group Theory\",\n",
    "    \"math.GT\": \"Geometric Topology\",\n",
    "    \"math.HO\": \"History and Overview\",\n",
    "    \"math.IT\": \"Information Theory\",\n",
    "    \"math.KT\": \"K-Theory and Homology\",\n",
    "    \"math.LO\": \"Logic\",\n",
    "    \"math.MG\": \"Metric Geometry\",\n",
    "    \"math.MP\": \"Mathematical Physics\",\n",
    "    \"math.NA\": \"Numerical Analysis\",\n",
    "    \"math.NT\": \"Number Theory\",\n",
    "    \"math.OA\": \"Operator Algebras\",\n",
    "    \"math.OC\": \"Optimization and Control\",\n",
    "    \"math.PR\": \"Probability\",\n",
    "    \"math.QA\": \"Quantum Algebra\",\n",
    "    \"math.RA\": \"Rings and Algebras\",\n",
    "    \"math.RT\": \"Representation Theory\",\n",
    "    \"math.SG\": \"Symplectic Geometry\",\n",
    "    \"math.SP\": \"Spectral Theory\",\n",
    "    \"math.ST\": \"Statistics Theory\",\n",
    "    \"math-ph\": \"Mathematical Physics\",\n",
    "    \"nlin.AO\": \"Adaptation and Self-Organizing Systems\",\n",
    "    \"nlin.CD\": \"Chaotic Dynamics\",\n",
    "    \"nlin.CG\": \"Cellular Automata and Lattice Gases\",\n",
    "    \"nlin.PS\": \"Pattern Formation and Solitons\",\n",
    "    \"nlin.SI\": \"Exactly Solvable and Integrable Systems\",\n",
    "    \"nucl-ex\": \"Nuclear Experiment\",\n",
    "    \"nucl-th\": \"Nuclear Theory\",\n",
    "    \"physics.acc-ph\": \"Accelerator Physics\",\n",
    "    \"physics.ao-ph\": \"Atmospheric and Oceanic Physics\",\n",
    "    \"physics.app-ph\": \"Applied Physics\",\n",
    "    \"physics.atm-clus\": \"Atomic and Molecular Clusters\",\n",
    "    \"physics.atom-ph\": \"Atomic Physics\",\n",
    "    \"physics.bio-ph\": \"Biological Physics\",\n",
    "    \"physics.chem-ph\": \"Chemical Physics\",\n",
    "    \"physics.class-ph\": \"Classical Physics\",\n",
    "    \"physics.comp-ph\": \"Computational Physics\",\n",
    "    \"physics.data-an\": \"Data Analysis, Statistics and Probability\",\n",
    "    \"physics.ed-ph\": \"Physics Education\",\n",
    "    \"physics.flu-dyn\": \"Fluid Dynamics\",\n",
    "    \"physics.gen-ph\": \"General Physics\",\n",
    "    \"physics.geo-ph\": \"Geophysics\",\n",
    "    \"physics.hist-ph\": \"History and Philosophy of Physics\",\n",
    "    \"physics.ins-det\": \"Instrumentation and Detectors\",\n",
    "    \"physics.med-ph\": \"Medical Physics\",\n",
    "    \"physics.optics\": \"Optics\",\n",
    "    \"physics.plasm-ph\": \"Plasma Physics\",\n",
    "    \"physics.pop-ph\": \"Popular Physics\",\n",
    "    \"physics.soc-ph\": \"Physics and Society\",\n",
    "    \"physics.space-ph\": \"Space Physics\",\n",
    "    \"q-bio.BM\": \"Biomolecules\",\n",
    "    \"q-bio.CB\": \"Cell Behavior\",\n",
    "    \"q-bio.GN\": \"Genomics\",\n",
    "    \"q-bio.MN\": \"Molecular Networks\",\n",
    "    \"q-bio.NC\": \"Neurons and Cognition\",\n",
    "    \"q-bio.OT\": \"Other Quantitative Biology\",\n",
    "    \"q-bio.PE\": \"Populations and Evolution\",\n",
    "    \"q-bio.QM\": \"Quantitative Methods\",\n",
    "    \"q-bio.SC\": \"Subcellular Processes\",\n",
    "    \"q-bio.TO\": \"Tissues and Organs\",\n",
    "    \"q-fin.CP\": \"Computational Finance\",\n",
    "    \"q-fin.EC\": \"Economics\",\n",
    "    \"q-fin.GN\": \"General Finance\",\n",
    "    \"q-fin.MF\": \"Mathematical Finance\",\n",
    "    \"q-fin.PM\": \"Portfolio Management\",\n",
    "    \"q-fin.PR\": \"Pricing of Securities\",\n",
    "    \"q-fin.RM\": \"Risk Management\",\n",
    "    \"q-fin.ST\": \"Statistical Finance\",\n",
    "    \"q-fin.TR\": \"Trading and Market Microstructure\",\n",
    "    \"quant-ph\": \"Quantum Physics\",\n",
    "    \"stat.AP\": \"Applications\",\n",
    "    \"stat.CO\": \"Computation\",\n",
    "    \"stat.ME\": \"Methodology\",\n",
    "    \"stat.ML\": \"Machine Learning\",\n",
    "    \"stat.OT\": \"Other Statistics\",\n",
    "    \"stat.TH\": \"Statistics Theory\",\n",
    "}"
   ]
  },
  {
   "cell_type": "code",
   "execution_count": 11,
   "metadata": {},
   "outputs": [
    {
     "data": {
      "text/html": [
       "<div>\n",
       "<style scoped>\n",
       "    .dataframe tbody tr th:only-of-type {\n",
       "        vertical-align: middle;\n",
       "    }\n",
       "\n",
       "    .dataframe tbody tr th {\n",
       "        vertical-align: top;\n",
       "    }\n",
       "\n",
       "    .dataframe thead th {\n",
       "        text-align: right;\n",
       "    }\n",
       "</style>\n",
       "<table border=\"1\" class=\"dataframe\">\n",
       "  <thead>\n",
       "    <tr style=\"text-align: right;\">\n",
       "      <th></th>\n",
       "      <th>id</th>\n",
       "      <th>title</th>\n",
       "      <th>abstract</th>\n",
       "      <th>categories</th>\n",
       "      <th>update_date</th>\n",
       "    </tr>\n",
       "  </thead>\n",
       "  <tbody>\n",
       "    <tr>\n",
       "      <th>0</th>\n",
       "      <td>704.0001</td>\n",
       "      <td>Calculation of prompt diphoton production cros...</td>\n",
       "      <td>A fully differential calculation in perturba...</td>\n",
       "      <td>hep-ph</td>\n",
       "      <td>2008-11-26</td>\n",
       "    </tr>\n",
       "    <tr>\n",
       "      <th>1</th>\n",
       "      <td>704.0002</td>\n",
       "      <td>Sparsity-certifying Graph Decompositions</td>\n",
       "      <td>We describe a new algorithm, the $(k,\\ell)$-...</td>\n",
       "      <td>math.CO cs.CG</td>\n",
       "      <td>2008-12-13</td>\n",
       "    </tr>\n",
       "    <tr>\n",
       "      <th>2</th>\n",
       "      <td>704.0003</td>\n",
       "      <td>The evolution of the Earth-Moon system based o...</td>\n",
       "      <td>The evolution of Earth-Moon system is descri...</td>\n",
       "      <td>physics.gen-ph</td>\n",
       "      <td>2008-01-13</td>\n",
       "    </tr>\n",
       "  </tbody>\n",
       "</table>\n",
       "</div>"
      ],
      "text/plain": [
       "         id                                              title  \\\n",
       "0  704.0001  Calculation of prompt diphoton production cros...   \n",
       "1  704.0002           Sparsity-certifying Graph Decompositions   \n",
       "2  704.0003  The evolution of the Earth-Moon system based o...   \n",
       "\n",
       "                                            abstract      categories  \\\n",
       "0    A fully differential calculation in perturba...          hep-ph   \n",
       "1    We describe a new algorithm, the $(k,\\ell)$-...   math.CO cs.CG   \n",
       "2    The evolution of Earth-Moon system is descri...  physics.gen-ph   \n",
       "\n",
       "  update_date  \n",
       "0  2008-11-26  \n",
       "1  2008-12-13  \n",
       "2  2008-01-13  "
      ]
     },
     "execution_count": 11,
     "metadata": {},
     "output_type": "execute_result"
    }
   ],
   "source": [
    "data_df.head(3)"
   ]
  },
  {
   "cell_type": "code",
   "execution_count": 12,
   "metadata": {},
   "outputs": [
    {
     "data": {
      "text/html": [
       "<div>\n",
       "<style scoped>\n",
       "    .dataframe tbody tr th:only-of-type {\n",
       "        vertical-align: middle;\n",
       "    }\n",
       "\n",
       "    .dataframe tbody tr th {\n",
       "        vertical-align: top;\n",
       "    }\n",
       "\n",
       "    .dataframe thead th {\n",
       "        text-align: right;\n",
       "    }\n",
       "</style>\n",
       "<table border=\"1\" class=\"dataframe\">\n",
       "  <thead>\n",
       "    <tr style=\"text-align: right;\">\n",
       "      <th></th>\n",
       "      <th>id</th>\n",
       "      <th>title</th>\n",
       "      <th>abstract</th>\n",
       "      <th>categories</th>\n",
       "      <th>update_date</th>\n",
       "      <th>title_words</th>\n",
       "      <th>abstract_words</th>\n",
       "      <th>mapped_categories</th>\n",
       "      <th>amount_categories</th>\n",
       "      <th>update_year</th>\n",
       "    </tr>\n",
       "  </thead>\n",
       "  <tbody>\n",
       "    <tr>\n",
       "      <th>0</th>\n",
       "      <td>704.0001</td>\n",
       "      <td>Calculation of prompt diphoton production cros...</td>\n",
       "      <td>A fully differential calculation in perturba...</td>\n",
       "      <td>[hep-ph]</td>\n",
       "      <td>2008-11-26</td>\n",
       "      <td>12</td>\n",
       "      <td>140</td>\n",
       "      <td>[High Energy Physics - Phenomenology]</td>\n",
       "      <td>1</td>\n",
       "      <td>2008</td>\n",
       "    </tr>\n",
       "    <tr>\n",
       "      <th>1</th>\n",
       "      <td>704.0002</td>\n",
       "      <td>Sparsity-certifying Graph Decompositions</td>\n",
       "      <td>We describe a new algorithm, the $(k,\\ell)$-...</td>\n",
       "      <td>[math.CO, cs.CG]</td>\n",
       "      <td>2008-12-13</td>\n",
       "      <td>3</td>\n",
       "      <td>115</td>\n",
       "      <td>[Combinatorics, Computational Geometry]</td>\n",
       "      <td>2</td>\n",
       "      <td>2008</td>\n",
       "    </tr>\n",
       "    <tr>\n",
       "      <th>2</th>\n",
       "      <td>704.0003</td>\n",
       "      <td>The evolution of the Earth-Moon system based o...</td>\n",
       "      <td>The evolution of Earth-Moon system is descri...</td>\n",
       "      <td>[physics.gen-ph]</td>\n",
       "      <td>2008-01-13</td>\n",
       "      <td>14</td>\n",
       "      <td>144</td>\n",
       "      <td>[General Physics]</td>\n",
       "      <td>1</td>\n",
       "      <td>2008</td>\n",
       "    </tr>\n",
       "  </tbody>\n",
       "</table>\n",
       "</div>"
      ],
      "text/plain": [
       "         id                                              title  \\\n",
       "0  704.0001  Calculation of prompt diphoton production cros...   \n",
       "1  704.0002           Sparsity-certifying Graph Decompositions   \n",
       "2  704.0003  The evolution of the Earth-Moon system based o...   \n",
       "\n",
       "                                            abstract        categories  \\\n",
       "0    A fully differential calculation in perturba...          [hep-ph]   \n",
       "1    We describe a new algorithm, the $(k,\\ell)$-...  [math.CO, cs.CG]   \n",
       "2    The evolution of Earth-Moon system is descri...  [physics.gen-ph]   \n",
       "\n",
       "  update_date  title_words  abstract_words  \\\n",
       "0  2008-11-26           12             140   \n",
       "1  2008-12-13            3             115   \n",
       "2  2008-01-13           14             144   \n",
       "\n",
       "                         mapped_categories  amount_categories  update_year  \n",
       "0    [High Energy Physics - Phenomenology]                  1         2008  \n",
       "1  [Combinatorics, Computational Geometry]                  2         2008  \n",
       "2                        [General Physics]                  1         2008  "
      ]
     },
     "execution_count": 12,
     "metadata": {},
     "output_type": "execute_result"
    }
   ],
   "source": [
    "data_df['title_words'] = data_df['title'].apply(lambda x: len(x.split()))\n",
    "data_df['abstract_words'] = data_df['abstract'].apply(lambda x: len(x.split()))\n",
    "data_df['categories'] = data_df['categories'].apply(lambda x: x.split())\n",
    "data_df['mapped_categories'] = data_df['categories'].apply(lambda x: [category_map[cat] if cat in category_map else \"UNKNOWN\" for cat in x])\n",
    "data_df['amount_categories'] = data_df['categories'].apply(lambda x: len(x))\n",
    "data_df['update_year'] = data_df['update_date'].apply(lambda x: int(x[:4]))\n",
    "data_df.head(3)"
   ]
  },
  {
   "cell_type": "code",
   "execution_count": 13,
   "metadata": {},
   "outputs": [
    {
     "name": "stdout",
     "output_type": "stream",
     "text": [
      "Max number of words in title: 61\n",
      "Max number of words in abstract: 925\n",
      "--------------------------------------------------\n",
      "Min number of words in title: 1\n",
      "Min number of words in abstract: 1\n",
      "--------------------------------------------------\n",
      "Mean number of words in title: 9.751281534798125\n",
      "Mean number of words in abstract: 140.6586021168989\n",
      "--------------------------------------------------\n",
      "Median number of words in title: 9.0\n",
      "Median number of words in abstract: 135.0\n"
     ]
    }
   ],
   "source": [
    "print(f'Max number of words in title: {data_df[\"title_words\"].max()}')\n",
    "print(f'Max number of words in abstract: {data_df[\"abstract_words\"].max()}')\n",
    "print(\"-\" * 50)\n",
    "print(f'Min number of words in title: {data_df[\"title_words\"].min()}')\n",
    "print(f'Min number of words in abstract: {data_df[\"abstract_words\"].min()}')\n",
    "print(\"-\" * 50)\n",
    "print(f'Mean number of words in title: {data_df[\"title_words\"].mean()}')\n",
    "print(f'Mean number of words in abstract: {data_df[\"abstract_words\"].mean()}')\n",
    "print(\"-\" * 50)\n",
    "print(f'Median number of words in title: {data_df[\"title_words\"].median()}')\n",
    "print(f'Median number of words in abstract: {data_df[\"abstract_words\"].median()}')"
   ]
  },
  {
   "cell_type": "code",
   "execution_count": 14,
   "metadata": {},
   "outputs": [
    {
     "data": {
      "text/plain": [
       "<Axes: xlabel='title_words', ylabel='Count'>"
      ]
     },
     "execution_count": 14,
     "metadata": {},
     "output_type": "execute_result"
    },
    {
     "data": {
      "image/png": "[encoded data removed]",
      "text/plain": [
       "<Figure size 640x480 with 1 Axes>"
      ]
     },
     "metadata": {},
     "output_type": "display_data"
    }
   ],
   "source": [
    "# histogram of number of words in titles and abstracts\n",
    "sns.histplot(data_df['title_words'], bins=30, log_scale=True)"
   ]
  },
  {
   "cell_type": "code",
   "execution_count": 15,
   "metadata": {},
   "outputs": [
    {
     "data": {
      "text/plain": [
       "<Axes: xlabel='abstract_words', ylabel='Count'>"
      ]
     },
     "execution_count": 15,
     "metadata": {},
     "output_type": "execute_result"
    },
    {
     "data": {
      "image/png": "[encoded data removed]",
      "text/plain": [
       "<Figure size 640x480 with 1 Axes>"
      ]
     },
     "metadata": {},
     "output_type": "display_data"
    }
   ],
   "source": [
    "sns.histplot(data_df['abstract_words'], bins=30, log_scale=True)"
   ]
  },
  {
   "cell_type": "code",
   "execution_count": 16,
   "metadata": {},
   "outputs": [
    {
     "data": {
      "text/plain": [
       "abstract_words\n",
       "150    16475\n",
       "100    15456\n",
       "149    15417\n",
       "Name: count, dtype: int64"
      ]
     },
     "metadata": {},
     "output_type": "display_data"
    },
    {
     "data": {
      "text/plain": [
       "abstract_words\n",
       "497    1\n",
       "487    1\n",
       "458    1\n",
       "Name: count, dtype: int64"
      ]
     },
     "metadata": {},
     "output_type": "display_data"
    },
    {
     "name": "stdout",
     "output_type": "stream",
     "text": [
      "Only 1 words in abstract: 4 times\n",
      "Only 2 words in abstract: 31 times\n",
      "Only 3 words in abstract: 43 times\n",
      "Only 4 words in abstract: 66 times\n",
      "Only 5 words in abstract: 246 times\n",
      "Only 6 words in abstract: 110 times\n",
      "Only 7 words in abstract: 218 times\n",
      "Only 8 words in abstract: 427 times\n",
      "Only 9 words in abstract: 386 times\n",
      "Only 10 words in abstract: 531 times\n"
     ]
    }
   ],
   "source": [
    "abtract_words_dist = data_df['abstract_words'].value_counts().sort_values(ascending=False)\n",
    "display(abtract_words_dist.head(3), abtract_words_dist.tail(3))\n",
    "show_n = 10\n",
    "for n in range(1, show_n + 1):\n",
    "    print(f\"Only {n} words in abstract: {abtract_words_dist[n]} times\")"
   ]
  },
  {
   "cell_type": "code",
   "execution_count": 17,
   "metadata": {},
   "outputs": [
    {
     "data": {
      "text/plain": [
       "update_year\n",
       "2007    145833\n",
       "2008     69325\n",
       "2009    229015\n",
       "2010     56175\n",
       "2011     61794\n",
       "2012     57222\n",
       "2013     71838\n",
       "2014     87847\n",
       "2015    214639\n",
       "2016    133303\n",
       "2017    122202\n",
       "2018    135646\n",
       "2019    154632\n",
       "2020    175299\n",
       "2021    188606\n",
       "2022    196471\n",
       "2023    249061\n",
       "2024    128395\n",
       "Name: count, dtype: int64"
      ]
     },
     "execution_count": 17,
     "metadata": {},
     "output_type": "execute_result"
    }
   ],
   "source": [
    "# plot number of papers per year\n",
    "data_df['update_year'].value_counts().sort_index()"
   ]
  },
  {
   "cell_type": "code",
   "execution_count": 18,
   "metadata": {},
   "outputs": [
    {
     "name": "stdout",
     "output_type": "stream",
     "text": [
      "[1] Machine Learning: 238909 (9.64%)\n",
      "[2] High Energy Physics - Phenomenology: 179237 (7.24%)\n",
      "[3] High Energy Physics - Theory: 165608 (6.69%)\n",
      "[4] Mathematical Physics: 157842 (6.37%)\n",
      "[5] Quantum Physics: 147273 (5.94%)\n",
      "[6] Computer Vision and Pattern Recognition: 122355 (4.94%)\n",
      "[7] General Relativity and Quantum Cosmology: 106566 (4.30%)\n",
      "[8] Astrophysics: 105380 (4.25%)\n",
      "[9] Information Theory: 92918 (3.75%)\n",
      "[10] Materials Science: 91373 (3.69%)\n",
      "[11] Mesoscale and Nanoscale Physics: 89416 (3.61%)\n",
      "[12] Artificial Intelligence: 88675 (3.58%)\n",
      "[13] Strongly Correlated Electrons: 73199 (2.95%)\n",
      "[14] Statistical Mechanics: 72906 (2.94%)\n",
      "[15] Cosmology and Nongalactic Astrophysics: 66729 (2.69%)\n",
      "[16] Combinatorics: 65317 (2.64%)\n",
      "[17] Astrophysics of Galaxies: 63450 (2.56%)\n",
      "[18] Computation and Language: 61702 (2.49%)\n",
      "[19] Analysis of PDEs: 61350 (2.48%)\n",
      "[20] Numerical Analysis: 60942 (2.46%)\n",
      "[21] Solar and Stellar Astrophysics: 59666 (2.41%)\n",
      "[22] High Energy Astrophysical Phenomena: 56943 (2.30%)\n",
      "[23] Nuclear Theory: 56804 (2.29%)\n",
      "[24] Probability: 55585 (2.24%)\n",
      "[25] Systems and Control: 54320 (2.19%)\n",
      "[26] High Energy Physics - Experiment: 53321 (2.15%)\n",
      "[27] Algebraic Geometry: 52036 (2.10%)\n",
      "[28] Optimization and Control: 47816 (1.93%)\n",
      "[29] Optics: 45805 (1.85%)\n",
      "[30] Statistics Theory: 45542 (1.84%)\n",
      "[31] Superconductivity: 42899 (1.73%)\n",
      "[32] Differential Geometry: 41737 (1.68%)\n",
      "[33] Number Theory: 41369 (1.67%)\n",
      "[34] Soft Condensed Matter: 39515 (1.60%)\n",
      "[35] Dynamical Systems: 36227 (1.46%)\n",
      "[36] Cryptography and Security: 32538 (1.31%)\n",
      "[37] Robotics: 31803 (1.28%)\n",
      "[38] Functional Analysis: 30719 (1.24%)\n",
      "[39] Earth and Planetary Astrophysics: 28714 (1.16%)\n",
      "[40] Instrumentation and Methods for Astrophysics: 28567 (1.15%)\n",
      "[41] High Energy Physics - Lattice: 27818 (1.12%)\n",
      "[42] Fluid Dynamics: 27787 (1.12%)\n",
      "[43] Signal Processing: 27382 (1.11%)\n",
      "[44] Methodology: 26521 (1.07%)\n",
      "[45] Not available: 26361 (1.06%)\n",
      "[46] Representation Theory: 25873 (1.04%)\n",
      "[47] Nuclear Experiment: 25605 (1.03%)\n",
      "[48] Data Structures and Algorithms: 23803 (0.96%)\n",
      "[49] Disordered Systems and Neural Networks: 23426 (0.95%)\n",
      "[50] Image and Video Processing: 22643 (0.91%)\n",
      "[51] Geometric Topology: 22633 (0.91%)\n",
      "[52] Computational Physics: 22446 (0.91%)\n",
      "[53] Chemical Physics: 22133 (0.89%)\n",
      "[54] Classical Analysis and ODEs: 22005 (0.89%)\n",
      "[55] Group Theory: 21957 (0.89%)\n",
      "[56] Networking and Internet Architecture: 21949 (0.89%)\n",
      "[57] Physics and Society: 21894 (0.88%)\n",
      "[58] Distributed, Parallel, and Cluster Computing: 21207 (0.86%)\n",
      "[59] Atomic Physics: 21036 (0.85%)\n",
      "[60] Quantum Gases: 20971 (0.85%)\n",
      "[61] Instrumentation and Detectors: 20818 (0.84%)\n",
      "[62] Social and Information Networks: 19583 (0.79%)\n",
      "[63] Quantum Algebra: 18860 (0.76%)\n",
      "[64] Computers and Society: 18419 (0.74%)\n",
      "[65] Applications: 18197 (0.73%)\n",
      "[66] Applied Physics: 17904 (0.72%)\n",
      "[67] Human-Computer Interaction: 17267 (0.70%)\n",
      "[68] Rings and Algebras: 17209 (0.69%)\n",
      "[69] Complex Variables: 16831 (0.68%)\n",
      "[70] Information Retrieval: 16789 (0.68%)\n",
      "[71] Plasma Physics: 16406 (0.66%)\n",
      "[72] Software Engineering: 16362 (0.66%)\n",
      "[73] Logic in Computer Science: 15948 (0.64%)\n",
      "[74] Other Condensed Matter: 15640 (0.63%)\n",
      "[75] Chaotic Dynamics: 15580 (0.63%)\n",
      "[76] Algebraic Topology: 15467 (0.62%)\n",
      "[77] Biological Physics: 15159 (0.61%)\n",
      "[78] Audio and Speech Processing: 14271 (0.58%)\n",
      "[79] Neural and Evolutionary Computing: 14183 (0.57%)\n",
      "[80] Sound: 13629 (0.55%)\n",
      "[81] Discrete Mathematics: 13216 (0.53%)\n",
      "[82] Logic: 13113 (0.53%)\n",
      "[83] Commutative Algebra: 12773 (0.52%)\n",
      "[84] Operator Algebras: 12496 (0.50%)\n",
      "[85] Exactly Solvable and Integrable Systems: 11789 (0.48%)\n",
      "[86] Computer Science and Game Theory: 11331 (0.46%)\n",
      "[87] Populations and Evolution: 11265 (0.45%)\n",
      "[88] Metric Geometry: 11045 (0.45%)\n",
      "[89] Computational Complexity: 10659 (0.43%)\n",
      "[90] Quantitative Methods: 10293 (0.42%)\n",
      "[91] General Physics: 10288 (0.42%)\n",
      "[92] Data Analysis, Statistics and Probability: 10285 (0.42%)\n",
      "[93] Pattern Formation and Solitons: 9648 (0.39%)\n",
      "[94] Spectral Theory: 9599 (0.39%)\n",
      "[95] Neurons and Cognition: 9349 (0.38%)\n",
      "[96] Symplectic Geometry: 8988 (0.36%)\n",
      "[97] Databases: 8622 (0.35%)\n",
      "[98] Category Theory: 8457 (0.34%)\n",
      "[99] Classical Physics: 8442 (0.34%)\n",
      "[100] Computation: 8105 (0.33%)\n",
      "[101] Accelerator Physics: 7730 (0.31%)\n",
      "[102] Programming Languages: 7724 (0.31%)\n",
      "[103] Multiagent Systems: 7607 (0.31%)\n",
      "[104] Adaptation and Self-Organizing Systems: 7120 (0.29%)\n",
      "[105] Geophysics: 7012 (0.28%)\n",
      "[106] Computational Engineering, Finance, and Science: 6961 (0.28%)\n",
      "[107] Medical Physics: 6822 (0.28%)\n",
      "[108] Computational Geometry: 6783 (0.27%)\n",
      "[109] Atmospheric and Oceanic Physics: 6384 (0.26%)\n",
      "[110] Multimedia: 6344 (0.26%)\n",
      "[111] Space Physics: 6328 (0.26%)\n",
      "[112] Graphics: 5945 (0.24%)\n",
      "[113] K-Theory and Homology: 5842 (0.24%)\n",
      "[114] Biomolecules: 5498 (0.22%)\n",
      "[115] General Topology: 5094 (0.21%)\n",
      "[116] History and Philosophy of Physics: 4894 (0.20%)\n",
      "[117] Formal Languages and Automata Theory: 4883 (0.20%)\n",
      "[118] Hardware Architecture: 4860 (0.20%)\n",
      "[119] Digital Libraries: 4817 (0.19%)\n",
      "[120] Economics: 4586 (0.19%)\n",
      "[121] Emerging Technologies: 4226 (0.17%)\n",
      "[122] General Economics: 4019 (0.16%)\n",
      "[123] General Mathematics: 3969 (0.16%)\n",
      "[124] Performance: 3893 (0.16%)\n",
      "[125] Physics Education: 3802 (0.15%)\n",
      "[126] Molecular Networks: 3700 (0.15%)\n",
      "[127] History and Overview: 3617 (0.15%)\n",
      "[128] Statistical Finance: 3551 (0.14%)\n",
      "[129] Econometrics: 3550 (0.14%)\n",
      "[130] Genomics: 3086 (0.12%)\n",
      "[131] Atomic and Molecular Clusters: 2724 (0.11%)\n",
      "[132] General Finance: 2649 (0.11%)\n",
      "[133] Symbolic Computation: 2525 (0.10%)\n",
      "[134] Mathematical Finance: 2484 (0.10%)\n",
      "[135] Popular Physics: 2404 (0.10%)\n",
      "[136] Theoretical Economics: 2403 (0.10%)\n",
      "[137] Computational Finance: 2367 (0.10%)\n",
      "[138] Tissues and Organs: 2245 (0.09%)\n",
      "[139] Risk Management: 2235 (0.09%)\n",
      "[140] Other Computer Science: 2205 (0.09%)\n",
      "[141] Mathematical Software: 2198 (0.09%)\n",
      "[142] Cell Behavior: 2147 (0.09%)\n",
      "[143] Pricing of Securities: 1962 (0.08%)\n",
      "[144] Portfolio Management: 1826 (0.07%)\n",
      "[145] Trading and Market Microstructure: 1731 (0.07%)\n",
      "[146] Subcellular Processes: 1682 (0.07%)\n",
      "[147] Cellular Automata and Lattice Gases: 1500 (0.06%)\n",
      "[148] Other Statistics: 1306 (0.05%)\n",
      "[149] Other Quantitative Biology: 1254 (0.05%)\n",
      "[150] Operating Systems: 897 (0.04%)\n",
      "[151] General Literature: 214 (0.01%)\n"
     ]
    }
   ],
   "source": [
    "# histogram for mapped categories (list of categories per paper)\n",
    "category_counts = data_df['mapped_categories'].explode().value_counts().sort_values(ascending=False)\n",
    "\n",
    "# print for all categories the amount, the percentage of total papers\n",
    "for i, (cat, count) in enumerate(category_counts.items(), 1):\n",
    "    print(f\"[{i}] {cat}: {count} ({count / len(data_df) * 100:.2f}%)\")"
   ]
  },
  {
   "cell_type": "code",
   "execution_count": 19,
   "metadata": {},
   "outputs": [
    {
     "name": "stdout",
     "output_type": "stream",
     "text": [
      "Paper with 1 categories: 1327729\n",
      "Paper with 2 categories: 730544\n",
      "Paper with 3 categories: 291723\n",
      "Paper with 4 categories: 94134\n",
      "Paper with 5 categories: 26452\n",
      "Paper with 6 categories: 5685\n",
      "Paper with 7 categories: 839\n",
      "Paper with 8 categories: 147\n",
      "Paper with 9 categories: 33\n",
      "Paper with 10 categories: 14\n",
      "Paper with 11 categories: 2\n",
      "Paper with 13 categories: 1\n"
     ]
    }
   ],
   "source": [
    "amount_categories_per_paper = data_df['amount_categories'].value_counts().sort_index()\n",
    "for amount, count in amount_categories_per_paper.items():\n",
    "    print(f\"Paper with {amount} categories: {count}\")"
   ]
  },
  {
   "cell_type": "code",
   "execution_count": 83,
   "metadata": {},
   "outputs": [
    {
     "name": "stdout",
     "output_type": "stream",
     "text": [
      "Sampling 2840 papers per category for 500000 samples\n"
     ]
    }
   ],
   "source": [
    "n_samples = 500_000\n",
    "samples_per_category = n_samples // len(category_map.values())\n",
    "print(f\"Sampling {samples_per_category} papers per category for {n_samples} samples\")\n",
    "\n",
    "sampled_data = []\n",
    "for cat, count in category_counts.items():\n",
    "    if count < samples_per_category:\n",
    "        sampled_data.append(data_df[data_df['mapped_categories'].apply(lambda x: cat in x)])\n",
    "    else:\n",
    "        sampled_data.append(data_df[data_df['mapped_categories'].apply(lambda x: cat in x)].sample(samples_per_category, random_state=42))\n",
    "sampled_df = pd.concat(sampled_data).sample(frac=1, random_state=42).reset_index(drop=True)"
   ]
  },
  {
   "cell_type": "code",
   "execution_count": 84,
   "metadata": {},
   "outputs": [
    {
     "data": {
      "text/html": [
       "<div>\n",
       "<style scoped>\n",
       "    .dataframe tbody tr th:only-of-type {\n",
       "        vertical-align: middle;\n",
       "    }\n",
       "\n",
       "    .dataframe tbody tr th {\n",
       "        vertical-align: top;\n",
       "    }\n",
       "\n",
       "    .dataframe thead th {\n",
       "        text-align: right;\n",
       "    }\n",
       "</style>\n",
       "<table border=\"1\" class=\"dataframe\">\n",
       "  <thead>\n",
       "    <tr style=\"text-align: right;\">\n",
       "      <th></th>\n",
       "      <th>id</th>\n",
       "      <th>title</th>\n",
       "      <th>abstract</th>\n",
       "      <th>categories</th>\n",
       "      <th>update_date</th>\n",
       "      <th>title_words</th>\n",
       "      <th>abstract_words</th>\n",
       "      <th>mapped_categories</th>\n",
       "      <th>amount_categories</th>\n",
       "      <th>update_year</th>\n",
       "    </tr>\n",
       "  </thead>\n",
       "  <tbody>\n",
       "    <tr>\n",
       "      <th>0</th>\n",
       "      <td>cond-mat/0401527</td>\n",
       "      <td>Dynamical interplay between local connectivity...</td>\n",
       "      <td>We show, both numerically and analytically, ...</td>\n",
       "      <td>[cond-mat.dis-nn, cond-mat.soft, q-bio.PE]</td>\n",
       "      <td>2007-05-23</td>\n",
       "      <td>12</td>\n",
       "      <td>56</td>\n",
       "      <td>[Disordered Systems and Neural Networks, Soft ...</td>\n",
       "      <td>3</td>\n",
       "      <td>2007</td>\n",
       "    </tr>\n",
       "    <tr>\n",
       "      <th>1</th>\n",
       "      <td>1508.07807</td>\n",
       "      <td>A coherence theorem for pseudonatural transfor...</td>\n",
       "      <td>We prove coherence theorems for bicategories...</td>\n",
       "      <td>[math.CT]</td>\n",
       "      <td>2016-12-21</td>\n",
       "      <td>6</td>\n",
       "      <td>78</td>\n",
       "      <td>[Category Theory]</td>\n",
       "      <td>1</td>\n",
       "      <td>2016</td>\n",
       "    </tr>\n",
       "    <tr>\n",
       "      <th>2</th>\n",
       "      <td>2102.04717</td>\n",
       "      <td>Development of astronomy research and educatio...</td>\n",
       "      <td>Africa has amazing potential due to natural ...</td>\n",
       "      <td>[astro-ph.IM, physics.ed-ph]</td>\n",
       "      <td>2022-01-05</td>\n",
       "      <td>10</td>\n",
       "      <td>154</td>\n",
       "      <td>[Instrumentation and Methods for Astrophysics,...</td>\n",
       "      <td>2</td>\n",
       "      <td>2022</td>\n",
       "    </tr>\n",
       "  </tbody>\n",
       "</table>\n",
       "</div>"
      ],
      "text/plain": [
       "                 id                                              title  \\\n",
       "0  cond-mat/0401527  Dynamical interplay between local connectivity...   \n",
       "1        1508.07807  A coherence theorem for pseudonatural transfor...   \n",
       "2        2102.04717  Development of astronomy research and educatio...   \n",
       "\n",
       "                                            abstract  \\\n",
       "0    We show, both numerically and analytically, ...   \n",
       "1    We prove coherence theorems for bicategories...   \n",
       "2    Africa has amazing potential due to natural ...   \n",
       "\n",
       "                                   categories update_date  title_words  \\\n",
       "0  [cond-mat.dis-nn, cond-mat.soft, q-bio.PE]  2007-05-23           12   \n",
       "1                                   [math.CT]  2016-12-21            6   \n",
       "2                [astro-ph.IM, physics.ed-ph]  2022-01-05           10   \n",
       "\n",
       "   abstract_words                                  mapped_categories  \\\n",
       "0              56  [Disordered Systems and Neural Networks, Soft ...   \n",
       "1              78                                  [Category Theory]   \n",
       "2             154  [Instrumentation and Methods for Astrophysics,...   \n",
       "\n",
       "   amount_categories  update_year  \n",
       "0                  3         2007  \n",
       "1                  1         2016  \n",
       "2                  2         2022  "
      ]
     },
     "execution_count": 84,
     "metadata": {},
     "output_type": "execute_result"
    }
   ],
   "source": [
    "sampled_df.head(3)"
   ]
  },
  {
   "cell_type": "code",
   "execution_count": 85,
   "metadata": {},
   "outputs": [],
   "source": [
    "def text_processing(sample):\n",
    "    title = sample['title']\n",
    "    abstract = sample['abstract']\n",
    "\n",
    "    # remove special characters\n",
    "    title = title.replace('\\n', ' ').replace('\\r', ' ').replace('\\t', ' ')\n",
    "    abstract = abstract.replace('\\n', ' ').replace('\\r', ' ').replace('\\t', ' ')\n",
    "\n",
    "    # remove multiple spaces\n",
    "    title = ' '.join(title.split())\n",
    "    abstract = ' '.join(abstract.split())\n",
    "\n",
    "    return f\"Title: {title} - Abstract: {abstract}\""
   ]
  },
  {
   "cell_type": "code",
   "execution_count": 86,
   "metadata": {},
   "outputs": [],
   "source": [
    "sampled_df['text'] = sampled_df.apply(text_processing, axis=1)"
   ]
  },
  {
   "cell_type": "markdown",
   "metadata": {},
   "source": [
    "## Model Exploration"
   ]
  },
  {
   "cell_type": "markdown",
   "metadata": {},
   "source": [
    "### all-MiniLM-L6-v2"
   ]
  },
  {
   "cell_type": "code",
   "execution_count": 87,
   "metadata": {},
   "outputs": [
    {
     "name": "stderr",
     "output_type": "stream",
     "text": [
      "w:\\Workspaces\\Python\\Studium\\Master\\ArxivAbstractProject\\.venv\\Lib\\site-packages\\huggingface_hub\\file_download.py:1132: FutureWarning: `resume_download` is deprecated and will be removed in version 1.0.0. Downloads always resume when possible. If you want to force a new download, use `force_download=True`.\n",
      "  warnings.warn(\n"
     ]
    }
   ],
   "source": [
    "from sentence_transformers import SentenceTransformer\n",
    "\n",
    "model = SentenceTransformer('sentence-transformers/all-MiniLM-L6-v2', cache_folder=cache_dir)\n",
    "# model = SentenceTransformer('sentence-transformers/all-mpnet-base-v2', cache_folder=cache_dir)"
   ]
  },
  {
   "cell_type": "code",
   "execution_count": 88,
   "metadata": {},
   "outputs": [
    {
     "data": {
      "application/vnd.jupyter.widget-view+json": {
       "model_id": "72e9800d669540efae0edb03ce6d5ab3",
       "version_major": 2,
       "version_minor": 0
      },
      "text/plain": [
       "Batches:   0%|          | 0/1603 [00:00<?, ?it/s]"
      ]
     },
     "metadata": {},
     "output_type": "display_data"
    }
   ],
   "source": [
    "embeddings = model.encode(sampled_df['text'].tolist(), show_progress_bar=True, device='cuda', batch_size=256, normalize_embeddings=True)"
   ]
  },
  {
   "cell_type": "code",
   "execution_count": 89,
   "metadata": {},
   "outputs": [
    {
     "data": {
      "application/vnd.jupyter.widget-view+json": {
       "model_id": "4975c0120b0e42b796a7deb817652701",
       "version_major": 2,
       "version_minor": 0
      },
      "text/plain": [
       "Batches:   0%|          | 0/1 [00:00<?, ?it/s]"
      ]
     },
     "metadata": {},
     "output_type": "display_data"
    }
   ],
   "source": [
    "query = \"Deep Learning for Orca Detection in Underwater Sound Recordings\"\n",
    "query_embedding = model.encode(query, show_progress_bar=True, device='cuda', normalize_embeddings=True)"
   ]
  },
  {
   "cell_type": "code",
   "execution_count": null,
   "metadata": {},
   "outputs": [
    {
     "name": "stdout",
     "output_type": "stream",
     "text": [
      "[1] | Similarity: 0.64\n",
      "Title: An Features Extraction and Recognition Method for Underwater Acoustic Target Based on ATCNN - Abstract: Facing the complex marine environment, it is extremely challenging\n",
      "to conduct underwater acoustic target recognition (UATR) using ship-radiated noise. Inspired by neural mechanism of auditory perception, this paper provides a new deep neural network\n",
      "trained by original underwater acoustic signals with depthwise separable convolution (DWS) and time-dilated convolution neural network, named auditory perception inspired time-dilated convolution neural network (ATCNN),\n",
      "and then implements detection and classification for underwater acoustic signals. The proposed ATCNN model consists of learnable features extractor and integration layer inspired by auditory\n",
      "perception, and time-dilated convolution inspired by language model. This paper decomposes original time-domain ship-radiated noise signals into different frequency components with depthwise separable convolution filter,\n",
      "and then extracts signal features based on auditory perception. The deep features are integrated on integration layer. The time-dilated convolution is used for long-term contextual\n",
      "modeling. As a result, like language model, intra-class and inter-class information can be fully used for UATR. For UATR task, the classification accuracy reaches 90.9%,\n",
      "which is the highest in contrast experiment. Experimental results show that ATCNN has great potential to improve the performance of UATR classification.\n",
      "--------------------------------------------------\n",
      "[2] | Similarity: 0.60\n",
      "Title: Detection of blue whale vocalisations using a temporal-domain convolutional neural network - Abstract: We present a framework for detecting blue whale vocalisations from acoustic\n",
      "submarine recordings. The proposed methodology comprises three stages: i) a preprocessing step where the audio recordings are conditioned through normalisation, filtering, and denoising; ii) a\n",
      "label-propagation mechanism to ensure the consistency of the annotations of the whale vocalisations, and iii) a convolutional neural network that receives audio samples. Based on\n",
      "34 real-world submarine recordings (28 for training and 6 for testing) we obtained promising performance indicators including an Accuracy of 85.4\\% and a Recall of\n",
      "93.5\\%. Furthermore, even for the cases where our detector did not match the ground-truth labels, a visual inspection validates the ability of our approach to\n",
      "detect possible parts of whale calls unlabelled as such due to not being complete calls.\n",
      "--------------------------------------------------\n",
      "[3] | Similarity: 0.58\n",
      "Title: Fish sounds: towards the evaluation of marine acoustic biodiversity through data-driven audio source separation - Abstract: The marine ecosystem is changing at an alarming\n",
      "rate, exhibiting biodiversity loss and the migration of tropical species to temperate basins. Monitoring the underwater environments and their inhabitants is of fundamental importance to\n",
      "understand the evolution of these systems and implement safeguard policies. However, assessing and tracking biodiversity is often a complex task, especially in large and uncontrolled\n",
      "environments, such as the oceans. One of the most popular and effective methods for monitoring marine biodiversity is passive acoustics monitoring (PAM), which employs hydrophones\n",
      "to capture underwater sound. Many aquatic animals produce sounds characteristic of their own species; these signals travel efficiently underwater and can be detected even at\n",
      "great distances. Furthermore, modern technologies are becoming more and more convenient and precise, allowing for very accurate and careful data acquisition. To date, audio captured\n",
      "with PAM devices is frequently manually processed by marine biologists and interpreted with traditional signal processing techniques for the detection of animal vocalizations. This is\n",
      "a challenging task, as PAM recordings are often over long periods of time. Moreover, one of the causes of biodiversity loss is sound pollution; in\n",
      "data obtained from regions with loud anthropic noise, it is hard to separate the artificial from the fish sound manually. Nowadays, machine learning and, in\n",
      "particular, deep learning represents the state of the art for processing audio signals. Specifically, sound separation networks are able to identify and separate human voices\n",
      "and musical instruments. In this work, we show that the same techniques can be successfully used to automatically extract fish vocalizations in PAM recordings, opening\n",
      "up the possibility for biodiversity monitoring at a large scale.\n",
      "--------------------------------------------------\n",
      "[4] | Similarity: 0.57\n",
      "Title: Signal Classification for Acoustic Neutrino Detection - Abstract: This article focuses on signal classification for deep-sea acoustic neutrino detection. In the deep sea, the\n",
      "background of transient signals is very diverse. Approaches like matched filtering are not sufficient to distinguish between neutrino-like signals and other transient signals with similar\n",
      "signature, which are forming the acoustic background for neutrino detection in the deep-sea environment. A classification system based on machine learning algorithms is analysed with\n",
      "the goal to find a robust and effective way to perform this task. For a well-trained model, a testing error on the level of one\n",
      "percent is achieved for strong classifiers like Random Forest and Boosting Trees using the extracted features of the signal as input and utilising dense clusters\n",
      "of sensors instead of single sensors.\n",
      "--------------------------------------------------\n",
      "[5] | Similarity: 0.57\n",
      "Title: Future Full-Ocean Deep SSPs Prediction based on Hierarchical Long Short-Term Memory Neural Networks - Abstract: The spatial-temporal distribution of underwater sound velocity affects the\n",
      "propagation mode of underwater acoustic signals. Therefore, rapid estimation and prediction of underwater sound velocity distribution is crucial for providing underwater positioning, navigation and timing\n",
      "(PNT) services. Currently, sound speed profile (SSP) inversion methods have a faster time response rate compared to direct measurement methods, however, most SSP inversion methods\n",
      "focus on constructing spatial dimensional sound velocity fields and are highly dependent on sonar observation data, thus high requirements have been placed on observation data\n",
      "sources. To explore the distribution pattern of sound velocity in the time dimension and achieve future SSP prediction without sonar observation data, we propose a\n",
      "hierarchical long short-term memory (H-LSTM) neural network for SSP prediction. By our SSP prediction method, the sound speed distribution could be estimated without any on-site\n",
      "data measurement process, so that the time efficiency could be greatly improved. Through comparing with other state-of-the-art methods, H-LSTM has better accuracy performance on prediction\n",
      "of monthly average sound velocity distribution, which is less than 1 m/s in different depth layers.\n",
      "--------------------------------------------------\n"
     ]
    }
   ],
   "source": [
    "# we just normalized the embeddings, so the dot product is the cosine similarity (and its faster to compute)\n",
    "import numpy as np\n",
    "\n",
    "dot_products = np.dot(embeddings, query_embedding.squeeze())\n",
    "top_k = 5\n",
    "words_per_line = 25\n",
    "top_k_indices = np.argsort(dot_products)[::-1][:top_k]\n",
    "\n",
    "for i, idx in enumerate(top_k_indices, 1):\n",
    "    print(f\"[{i}] | Similarity: {dot_products[idx]:.2f}\")\n",
    "    text = sampled_df.loc[idx, 'text'].split()\n",
    "    for j in range(0, len(text), words_per_line):\n",
    "        print(\" \".join(text[j:j + words_per_line]))\n",
    "    print(\"-\" * 50)"
   ]
  },
  {
   "cell_type": "code",
   "execution_count": 91,
   "metadata": {},
   "outputs": [
    {
     "ename": "",
     "evalue": "",
     "output_type": "error",
     "traceback": [
      "\u001b[1;31mCannot execute code, session has been disposed. Please try restarting the Kernel."
     ]
    },
    {
     "ename": "",
     "evalue": "",
     "output_type": "error",
     "traceback": [
      "\u001b[1;31mCannot execute code, session has been disposed. Please try restarting the Kernel. \n",
      "\u001b[1;31mView Jupyter <a href='command:jupyter.viewOutput'>log</a> for further details."
     ]
    }
   ],
   "source": [
    "# show tsne plot for the embeddings and the query with seaborn\n",
    "import matplotlib.pyplot as plt\n",
    "from sklearn.manifold import TSNE\n",
    "\n",
    "tsne = TSNE(n_components=2, random_state=42, n_jobs=-1, perplexity=30, n_iter=1000, verbose=1)\n",
    "X_embedded = tsne.fit_transform(embeddings)\n",
    "\n",
    "plt.figure(figsize=(10, 10))\n",
    "sns.scatterplot(x=X_embedded[:, 0], y=X_embedded[:, 1], alpha=0.5)\n",
    "plt.scatter(X_embedded[top_k_indices, 0], X_embedded[top_k_indices, 1], color='red', s=100, label='Top 5')\n",
    "plt.scatter(tsne.transform(query_embedding).squeeze()[0], tsne.transform(query_embedding).squeeze()[1], color='green', s=100, label='Query')\n",
    "plt.legend()\n",
    "plt.show()"
   ]
  },
  {
   "cell_type": "code",
   "execution_count": null,
   "metadata": {},
   "outputs": [],
   "source": []
  },
  {
   "cell_type": "code",
   "execution_count": null,
   "metadata": {},
   "outputs": [],
   "source": []
  },
  {
   "cell_type": "code",
   "execution_count": null,
   "metadata": {},
   "outputs": [],
   "source": []
  },
  {
   "cell_type": "code",
   "execution_count": null,
   "metadata": {},
   "outputs": [],
   "source": []
  },
  {
   "cell_type": "code",
   "execution_count": null,
   "metadata": {},
   "outputs": [],
   "source": [
    "model_path = 'Alibaba-NLP/gte-large-en-v1.5'\n",
    "device = 'cuda' if torch.cuda.is_available() else 'cpu'\n",
    "torch_dtype = torch.float16 if device == 'cuda' else torch.float32\n",
    "tokenizer = AutoTokenizer.from_pretrained(model_path, cache_dir=cache_dir)\n",
    "model = AutoModel.from_pretrained(model_path, trust_remote_code=True, cache_dir=cache_dir)\n",
    "\n",
    "model = model.to(device).eval().half() if torch_dtype == torch.float16 else model.to(device).eval()"
   ]
  },
  {
   "cell_type": "code",
   "execution_count": null,
   "metadata": {},
   "outputs": [],
   "source": [
    "batch_size = 64\n",
    "num_samples = 20_000\n",
    "\n",
    "samples = df.sample(num_samples)\n",
    "sample_abstracts = samples['abstract'].tolist()\n",
    "sample_titles = samples['title'].tolist()\n",
    "\n",
    "# sample_texts = [f'Title: {title.strip()} Abstract: {abstract.strip()}'.strip().replace('\\n', ' ') for title, abstract in zip(sample_titles, sample_abstracts)]\n",
    "sample_texts = [f'Title: {title.strip()}'.strip().replace('\\n', ' ') for title, abstract in zip(sample_titles, sample_abstracts)]"
   ]
  },
  {
   "cell_type": "code",
   "execution_count": null,
   "metadata": {},
   "outputs": [],
   "source": [
    "text_embeddings = []\n",
    "\n",
    "for i in tqdm(range(0, num_samples, batch_size)):\n",
    "    batch = sample_texts[i:i + batch_size]\n",
    "    inputs = tokenizer(batch, return_tensors='pt', padding=True, truncation=True, max_length=8192)\n",
    "    inputs = {k: v.to(device) for k, v in inputs.items()}\n",
    "    with torch.no_grad():\n",
    "        outputs = model(**inputs)\n",
    "    embeddings = outputs.last_hidden_state[:, 0].detach().to('cpu').float()\n",
    "    embeddings = F.normalize(embeddings, p=2, dim=1)\n",
    "    text_embeddings.append(embeddings)\n",
    "\n",
    "text_embeddings = torch.cat(text_embeddings).cpu().numpy()\n",
    "print(text_embeddings.shape)"
   ]
  },
  {
   "cell_type": "code",
   "execution_count": null,
   "metadata": {},
   "outputs": [],
   "source": [
    "# take random sample of text (and corresponding embeddings) and calculate cosine similarity to all other text embeddings\n",
    "# show the top 3 most similar text embeddings and their corresponding text and the 3 least similar text embeddings and their corresponding text\n",
    "import matplotlib.pyplot as plt\n",
    "import numpy as np\n",
    "\n",
    "np.random.seed(42)\n",
    "sample_idx = np.random.randint(0, num_samples)\n",
    "sample_embedding = text_embeddings[sample_idx]\n",
    "sample_text = sample_texts[sample_idx]\n",
    "print(sample_text)\n",
    "\n",
    "cosine_similarities = text_embeddings @ sample_embedding\n",
    "sorted_indices = np.argsort(cosine_similarities)\n",
    "\n",
    "print('Most similar')\n",
    "for idx in sorted_indices[-4:-1]:\n",
    "    print(sample_texts[idx], cosine_similarities[idx])\n",
    "\n",
    "print('\\nLeast similar')\n",
    "for idx in sorted_indices[:3]:\n",
    "    print(sample_texts[idx], cosine_similarities[idx])"
   ]
  },
  {
   "cell_type": "code",
   "execution_count": null,
   "metadata": {},
   "outputs": [],
   "source": [
    "input_text = \"Machine learning for computer vision\"\n",
    "tokenized_input = tokenizer(input_text, return_tensors='pt', padding=True, truncation=True, max_length=8192)\n",
    "tokenized_input = {k: v.to(device) for k, v in tokenized_input.items()}\n",
    "with torch.no_grad():\n",
    "    output = model(**tokenized_input)\n",
    "embedding = output.last_hidden_state[:, 0].detach().to('cpu').float()\n",
    "embedding = F.normalize(embedding, p=2, dim=1).squeeze()\n",
    "\n",
    "cosine_similarities = text_embeddings @ embedding.numpy()\n",
    "\n",
    "sorted_indices = np.argsort(cosine_similarities)\n",
    "print('Most similar')\n",
    "for idx in sorted_indices[-4:-1]:\n",
    "    print(sample_texts[idx], cosine_similarities[idx])\n",
    "\n",
    "print('\\nLeast similar')\n",
    "for idx in sorted_indices[:3]:\n",
    "    print(sample_texts[idx], cosine_similarities[idx])"
   ]
  },
  {
   "cell_type": "code",
   "execution_count": null,
   "metadata": {},
   "outputs": [],
   "source": [
    "# create a interactive graph with all the text embeddings using TSNE and on hover show the text\n",
    "from bokeh.io import output_notebook\n",
    "from bokeh.models import ColumnDataSource, HoverTool\n",
    "from bokeh.plotting import figure, show\n",
    "from sklearn.manifold import TSNE\n",
    "\n",
    "print('Calculating TSNE embeddings')\n",
    "tsne = TSNE(n_components=2, perplexity=50, n_iter=1500, random_state=42)\n",
    "tsne_embeddings = tsne.fit_transform(text_embeddings)"
   ]
  },
  {
   "cell_type": "code",
   "execution_count": null,
   "metadata": {},
   "outputs": [],
   "source": [
    "from bokeh.models import ColumnDataSource, HoverTool, PanTool, WheelZoomTool\n",
    "from bokeh.palettes import Category10\n",
    "from bokeh.plotting import figure, output_notebook, show\n",
    "\n",
    "# Prepare the data source\n",
    "source = ColumnDataSource(data=dict(\n",
    "    x=tsne_embeddings[:, 0],\n",
    "    y=tsne_embeddings[:, 1],\n",
    "    text=sample_texts\n",
    "))\n",
    "\n",
    "# Define hover tool\n",
    "hover = HoverTool(tooltips=[(\"Text\", \"@text\")])\n",
    "\n",
    "# Create the plot\n",
    "plot_title = \"Text Embeddings\"\n",
    "plot_width = 800\n",
    "plot_height = 600\n",
    "p = figure(tools=[hover, WheelZoomTool(), PanTool()], title=plot_title, width=plot_width, height=plot_height)\n",
    "p.circle('x', 'y', size=8, source=source, color=Category10[10][0], alpha=0.8, legend_label=\"Text Embeddings\")\n",
    "\n",
    "# Customize plot appearance\n",
    "p.title.text_font_size = \"16pt\"\n",
    "p.xaxis.axis_label = \"TSNE Dimension 1\"\n",
    "p.yaxis.axis_label = \"TSNE Dimension 2\"\n",
    "p.xaxis.axis_label_text_font_size = \"14pt\"\n",
    "p.yaxis.axis_label_text_font_size = \"14pt\"\n",
    "p.xaxis.major_label_text_font_size = \"12pt\"\n",
    "p.yaxis.major_label_text_font_size = \"12pt\"\n",
    "p.legend.label_text_font_size = \"12pt\"\n",
    "p.legend.location = \"top_right\"\n",
    "p.legend.click_policy = \"hide\"\n",
    "\n",
    "# Show the plot in the notebook\n",
    "output_notebook()\n",
    "show(p)"
   ]
  }
 ],
 "metadata": {
  "kernelspec": {
   "display_name": ".venv",
   "language": "python",
   "name": "python3"
  },
  "language_info": {
   "codemirror_mode": {
    "name": "ipython",
    "version": 3
   },
   "file_extension": ".py",
   "mimetype": "text/x-python",
   "name": "python",
   "nbconvert_exporter": "python",
   "pygments_lexer": "ipython3",
   "version": "3.12.0"
  }
 },
 "nbformat": 4,
 "nbformat_minor": 2
}
